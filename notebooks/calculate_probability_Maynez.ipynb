{
 "cells": [
  {
   "cell_type": "code",
   "execution_count": 1,
   "metadata": {},
   "outputs": [],
   "source": [
    "import json\n",
    "\n",
    "from fairseq.models.bart import BARTModel\n",
    "from utils import read_lines"
   ]
  },
  {
   "cell_type": "code",
   "execution_count": 2,
   "metadata": {},
   "outputs": [],
   "source": [
    "PATH = json.load(open('../path_config.json'))"
   ]
  },
  {
   "cell_type": "code",
   "execution_count": 3,
   "metadata": {},
   "outputs": [],
   "source": [
    "posterior_bart = BARTModel.from_pretrained(PATH['bart.large.xsum'],\n",
    "                                           checkpoint_file='model.pt',\n",
    "                                           data_name_or_path=PATH['bart.large.xsum'])\n",
    "\n",
    "# posterior_bart = BARTModel.from_pretrained(PATH['bart.large.cnn'],\n",
    "#                                            checkpoint_file='model.pt',\n",
    "#                                            data_name_or_path=PATH['bart.large.cnn'])\n",
    "\n",
    "# posterior_bart = BARTModel.from_pretrained(PATH['xsum_cmlm_bos'],\n",
    "#                                            checkpoint_file='checkpoint_best.pt',\n",
    "#                                            data_name_or_path=PATH['data_name_or_path'])\n",
    "\n",
    "# posterior_bart = BARTModel.from_pretrained(PATH['xsum_cmlm_scratch_cedar_warmup_20000'],\n",
    "#                                            checkpoint_file='checkpoint_best.pt',\n",
    "#                                            data_name_or_path=PATH['data_name_or_path'])"
   ]
  },
  {
   "cell_type": "code",
   "execution_count": 4,
   "metadata": {},
   "outputs": [],
   "source": [
    "# prior_bart = BARTModel.from_pretrained(PATH['bart.large'],\n",
    "#                                        checkpoint_file='model.pt',\n",
    "#                                        data_name_or_path=PATH['bart.large'])\n",
    "\n",
    "prior_bart = BARTModel.from_pretrained(PATH['cnndm_cmlm_cedar'],\n",
    "                                       checkpoint_file='checkpoint_best.pt',\n",
    "                                       data_name_or_path=PATH['data_name_or_path'])\n",
    "\n",
    "# prior_bart = BARTModel.from_pretrained(PATH['cnndm_cmlm_scratch_cedar_warmup_10000'],\n",
    "#                                        checkpoint_file='checkpoint_best.pt',\n",
    "#                                        data_name_or_path=PATH['data_name_or_path'])"
   ]
  },
  {
   "cell_type": "markdown",
   "metadata": {},
   "source": [
    "#### Read XSum"
   ]
  },
  {
   "cell_type": "code",
   "execution_count": 5,
   "metadata": {},
   "outputs": [
    {
     "name": "stdout",
     "output_type": "stream",
     "text": [
      "11301\n"
     ]
    }
   ],
   "source": [
    "document_path = PATH['xsum_fariseq'] + '/test.source'\n",
    "target_path = PATH['xsum_fariseq'] + '/test.target'\n",
    "xsum_source = read_lines(document_path)\n",
    "xsum_target = read_lines(target_path)\n",
    "print(len(xsum_source))\n",
    "assert len(xsum_source) == len(xsum_target)"
   ]
  },
  {
   "cell_type": "markdown",
   "metadata": {},
   "source": [
    "#### Test One Example"
   ]
  },
  {
   "cell_type": "code",
   "execution_count": 6,
   "metadata": {},
   "outputs": [],
   "source": [
    "import spacy\n",
    "\n",
    "from model import ConditionalSequenceGenerator\n",
    "from utils import prepare_cmlm_inputs, prepare_mlm_inputs, prepare_clm_inputs, get_cmlm_probability, get_prior_probability\n",
    "\n",
    "nlp = spacy.load('en_core_web_sm')"
   ]
  },
  {
   "cell_type": "code",
   "execution_count": 7,
   "metadata": {},
   "outputs": [],
   "source": [
    "INDEX = 9444\n",
    "\n",
    "source = xsum_source[INDEX]\n",
    "target = 'Twin-to-twin transfusion syndrome (TTTS) is being tracked by a hospital in Cardiff in a bid to save the lives of babies born with the condition.'"
   ]
  },
  {
   "cell_type": "code",
   "execution_count": 8,
   "metadata": {},
   "outputs": [
    {
     "name": "stdout",
     "output_type": "stream",
     "text": [
      "{'start': 35, 'end': 39, 'label': 0, 'type': 'ORG', 'ent': 'TTTS'} - TTTS\n",
      "{'start': 75, 'end': 82, 'label': 2, 'type': 'LOC', 'ent': 'Cardiff'} - Cardiff\n"
     ]
    }
   ],
   "source": [
    "ent_parts = [{'start': 35, 'end': 39, 'label': 0, 'type': 'ORG', 'ent': 'TTTS'},\n",
    "             {'start': 75, 'end': 82, 'label': 2, 'type': 'LOC', 'ent': 'Cardiff'}]\n",
    "\n",
    "for e in ent_parts:\n",
    "    print('{} - {}'.format(e, target[e['start']: e['end']]))"
   ]
  },
  {
   "cell_type": "code",
   "execution_count": 9,
   "metadata": {},
   "outputs": [],
   "source": [
    "prior_model = ConditionalSequenceGenerator(prior_bart)\n",
    "posterior_model = ConditionalSequenceGenerator(posterior_bart)\n",
    "\n",
    "pri_args = prepare_cmlm_inputs(source, target, ent_parts)\n",
    "pos_args = prepare_cmlm_inputs(source, target, ent_parts)\n",
    "\n",
    "prior_probs = get_cmlm_probability(prior_model, pri_args[0], pri_args[1], pri_args[2], pri_args[3])\n",
    "posterior_probs = get_cmlm_probability(posterior_model, pos_args[0], pos_args[1], pos_args[2], pos_args[3])\n",
    "\n",
    "assert len(prior_probs) == len(posterior_probs)"
   ]
  },
  {
   "cell_type": "code",
   "execution_count": 10,
   "metadata": {},
   "outputs": [
    {
     "name": "stdout",
     "output_type": "stream",
     "text": [
      "- prior: [0.6904296875, 0.0042724609375]\n",
      "- posterior: [0.27099609375, 0.147705078125]\n"
     ]
    }
   ],
   "source": [
    "print('- prior: {}'.format(prior_probs))\n",
    "print('- posterior: {}'.format(posterior_probs))"
   ]
  },
  {
   "cell_type": "markdown",
   "metadata": {},
   "source": [
    "#### Probability Calculation"
   ]
  },
  {
   "cell_type": "code",
   "execution_count": 11,
   "metadata": {},
   "outputs": [],
   "source": [
    "from tqdm import tqdm\n",
    "from utils import read_document"
   ]
  },
  {
   "cell_type": "code",
   "execution_count": 18,
   "metadata": {},
   "outputs": [
    {
     "name": "stdout",
     "output_type": "stream",
     "text": [
      "500\n"
     ]
    }
   ],
   "source": [
    "data = json.load(open('../data/Maynez_entity_data_with_prob.json', 'r'))\n",
    "print(len(data))"
   ]
  },
  {
   "cell_type": "code",
   "execution_count": 19,
   "metadata": {},
   "outputs": [
    {
     "data": {
      "text/plain": [
       "{'summary': \"the leader of bahrain's main opposition party has said there needs to be dialogue between the kingdom's crown prince and government.\",\n",
       " 'summary_upper': \"The leader of Bahrain 's main opposition party has said there needs to be dialogue between the kingdom 's crown prince and government .\",\n",
       " 'ents': [{'start': 14,\n",
       "   'end': 21,\n",
       "   'label': 0,\n",
       "   'type': 'GPE',\n",
       "   'ent': 'Bahrain',\n",
       "   'bart.large': 0.11968994140625,\n",
       "   'xsum_cmlm_bos': 0.9189453125,\n",
       "   'cnndm_cmlm_cedar': 0.93115234375,\n",
       "   'bart.large.xsum': 0.7041015625}]}"
      ]
     },
     "execution_count": 19,
     "metadata": {},
     "output_type": "execute_result"
    }
   ],
   "source": [
    "data['21267591']['BERTS2S']"
   ]
  },
  {
   "cell_type": "code",
   "execution_count": 14,
   "metadata": {},
   "outputs": [
    {
     "data": {
      "text/plain": [
       "'Sheikh Ali Salman told the BBC that for national dialogue to be meaningful , the government had to show its willingness to offer \" concrete solutions \" . \" We want someone who can speak for the royal family , \" he said . Crown Prince Salman al - Khalifa is seen as a reformist in a court divided on how to respond to opposition demands . Hardliners - centred around the unelected Prime Minister Sheikh Khalifa bin Salman al - Khalifa , who has been in his post since 1971 - are said to be opposed to a dialogue process which has only just been agreed between the government and six opposition societies . They fear that any concessions will only serve to encourage more demands from opposition leaders they deeply distrust . However , speaking to the BBC during a visit to London , Sheikh Salman insisted that now was the time for dialogue . \" We welcome it , we are ready for it , \" he said . \" We believe that dialogue and negotiations are necessary . \" The al - Wefaq leader acknowledged that many young protesters had lost faith in the main opposition parties . \" A lot of young people do not believe that we should ask for permission to go on a demonstration , or that we should call for a constitutional monarchy with this family , which until now is still killing people \" . But he believed that the only way forward was to work with reformists within the Sunni Muslim royal family , including the US - and UK - educated Crown Prince Salman , who has has long been considered a proponent of accommodation with the country \\'s Shia majority . Sheikh Salman noted that hours before King Hamad brought in Gulf Co-operation Council ( GCC ) troops to restore order and crush dissent on 14 March 2011 , the crown prince and opposition had agreed a seven - point plan that would have moved Bahrain towards a constitutional monarchy . \" We had an agreement with the crown prince , \" he said . \" The seven principles were announced and then 12 hours later , GCC troops came in and severed the dialogue . \" Asked about the appointment of Senator John Kerry as US secretary of state , Sheikh Salman said he was \" hopeful \" that he would \" do more than his predecessor \" , Hillary Clinton . \" US policy needs to be more clear and direct . The United States government needs to pressure harder for human rights and democratic practices . We are told that Mr Kerry has more interest in Bahrain and so we hope he will achieve more . \" On the UK \\'s approach to the crisis in Bahrain , the al - Wefaq leader was more blunt . \" If the UK government and [ Prime Minister David ] Cameron are serious about putting an end to violence and human rights abuses , then they have to speak out publically . \" It is not enough to say : \\' We are privately urging reform . \\' That has been done for years . Unfortunately , the Bahrain government is not listening to these private conversations . \" So , the question I would ask the British government is : \\' Shall you continue to say it privately and not put public pressure ? \\' This is not , I think , a good policy . \" Sheikh Salman also reiterated al - Wefaq \\'s position that it would continue to call for \" peaceful demonstrations \" , even though all public gatherings and rallies are currently banned in Bahrain . \" It is the only way open to us to put pressure on the government . \" He also called for the release of 13 opposition leaders and human rights activists who have been sentenced to between five years and life in prison on evidence widely accepted as having been obtained under torture . They were convicted of plotting to overthrow the government . \" These people have a lot of followers in the street . If they are not part of the dialogue than the dialogue will fail . \"'"
      ]
     },
     "execution_count": 14,
     "metadata": {},
     "output_type": "execute_result"
    }
   ],
   "source": [
    "read_document(21267591, '/home/mcao610/scratch/summarization/XSum/xsum-preprocessed/document/')"
   ]
  },
  {
   "cell_type": "code",
   "execution_count": 15,
   "metadata": {},
   "outputs": [
    {
     "name": "stderr",
     "output_type": "stream",
     "text": [
      " 28%|██▊       | 140/500 [08:45<25:31,  4.25s/it]"
     ]
    },
    {
     "name": "stdout",
     "output_type": "stream",
     "text": [
      "- cannot read source: 33928888\n"
     ]
    },
    {
     "name": "stderr",
     "output_type": "stream",
     "text": [
      "100%|██████████| 500/500 [32:15<00:00,  3.87s/it]\n"
     ]
    }
   ],
   "source": [
    "for bbcid in tqdm(data.keys()):\n",
    "    if bbcid == '39553812': continue  # corrupted sample\n",
    "    source = read_document(int(bbcid), '/home/mcao610/scratch/summarization/XSum/xsum-preprocessed/document/')\n",
    "    if source is None:\n",
    "        print('- cannot read source: {}'.format(bbcid))\n",
    "        continue\n",
    "    \n",
    "    for system in data[bbcid]:\n",
    "        target = data[bbcid][system]['summary_upper']\n",
    "        ents = data[bbcid][system]['ents']\n",
    "        \n",
    "        if len(ents) == 0: continue\n",
    "\n",
    "        pri_args = prepare_cmlm_inputs(source, target, ents)\n",
    "        pos_args = prepare_clm_inputs(source, target, ents)\n",
    "\n",
    "        prior_probs = get_cmlm_probability(prior_model, pri_args[0], pri_args[1], pri_args[2], pri_args[3])\n",
    "        posterior_probs = get_cmlm_probability(posterior_model, pos_args[0], pos_args[1], pos_args[2], pos_args[3])\n",
    "\n",
    "        assert len(prior_probs) == len(posterior_probs) == len(ents), \"{};\\n {};\\n {}\".format(prior_probs, posterior_probs, ents)\n",
    "        for i in range(len(prior_probs)):\n",
    "            data[bbcid][system]['ents'][i]['cnndm_cmlm_cedar'] = prior_probs[i]\n",
    "            data[bbcid][system]['ents'][i]['bart.large.xsum'] = posterior_probs[i]"
   ]
  },
  {
   "cell_type": "code",
   "execution_count": 16,
   "metadata": {},
   "outputs": [],
   "source": [
    "# for INDEX in tqdm(range(len(data))):\n",
    "#     source = xsum_source[data[INDEX]['id']]\n",
    "#     target = data[INDEX]['pred']\n",
    "    \n",
    "#     pri_args = prepare_mlm_inputs(source, target, data[INDEX]['ents'])\n",
    "#     pos_args = prepare_clm_inputs(source, target, data[INDEX]['ents'])\n",
    "\n",
    "#     prior_probs = get_prior_probability(prior_model, pri_args[0], pri_args[1], pri_args[2], pri_args[3])\n",
    "#     posterior_probs = get_cmlm_probability(posterior_model, pos_args[0], pos_args[1], pos_args[2], pos_args[3])\n",
    "    \n",
    "#     assert len(prior_probs) == len(posterior_probs) == len(data[INDEX]['ents']), \"{};\\n {};\\n {}\".format(prior_probs, posterior_probs, data[INDEX]['ents'])\n",
    "#     for i in range(len(prior_probs)):\n",
    "#         data[INDEX]['ents'][i]['bart.large'] = prior_probs[i]\n",
    "#         data[INDEX]['ents'][i]['bart.large.xsum'] = posterior_probs[i]"
   ]
  },
  {
   "cell_type": "code",
   "execution_count": 17,
   "metadata": {},
   "outputs": [],
   "source": [
    "with open('../data/Maynez_entity_data_with_prob.json', 'w') as fout:\n",
    "    json.dump(data , fout)"
   ]
  }
 ],
 "metadata": {
  "kernelspec": {
   "display_name": "Python 3",
   "language": "python",
   "name": "python3"
  },
  "language_info": {
   "codemirror_mode": {
    "name": "ipython",
    "version": 3
   },
   "file_extension": ".py",
   "mimetype": "text/x-python",
   "name": "python",
   "nbconvert_exporter": "python",
   "pygments_lexer": "ipython3",
   "version": "3.7.4"
  }
 },
 "nbformat": 4,
 "nbformat_minor": 4
}
