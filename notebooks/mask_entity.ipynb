{
 "cells": [
  {
   "cell_type": "code",
   "execution_count": 1,
   "id": "opposed-murder",
   "metadata": {},
   "outputs": [],
   "source": [
    "import json\n",
    "\n",
    "from fairseq.models.bart import BARTModel\n",
    "from utils import read_lines"
   ]
  },
  {
   "cell_type": "code",
   "execution_count": 2,
   "id": "intelligent-raising",
   "metadata": {},
   "outputs": [],
   "source": [
    "PATH = json.load(open('../path_config.json'))"
   ]
  },
  {
   "cell_type": "code",
   "execution_count": 3,
   "id": "simple-taxation",
   "metadata": {},
   "outputs": [],
   "source": [
    "bart = BARTModel.from_pretrained(PATH['xsum_cmlm_bos'],\n",
    "                                 checkpoint_file='checkpoint_best.pt',\n",
    "                                 data_name_or_path=PATH['data_name_or_path'])"
   ]
  },
  {
   "cell_type": "markdown",
   "id": "plastic-effects",
   "metadata": {},
   "source": [
    "#### Read XSum"
   ]
  },
  {
   "cell_type": "code",
   "execution_count": 4,
   "id": "compound-mexico",
   "metadata": {},
   "outputs": [
    {
     "name": "stdout",
     "output_type": "stream",
     "text": [
      "11301\n"
     ]
    }
   ],
   "source": [
    "document_path = PATH['xsum_fariseq'] + '/test.source'\n",
    "target_path = PATH['xsum_fariseq'] + '/test.target'\n",
    "xsum_source = read_lines(document_path)\n",
    "xsum_target = read_lines(target_path)\n",
    "print(len(xsum_source))\n",
    "assert len(xsum_source) == len(xsum_target)"
   ]
  },
  {
   "cell_type": "markdown",
   "id": "associate-hostel",
   "metadata": {},
   "source": [
    "#### Named Entity Recognition (NER)"
   ]
  },
  {
   "cell_type": "code",
   "execution_count": 5,
   "id": "delayed-agenda",
   "metadata": {},
   "outputs": [],
   "source": [
    "import spacy\n",
    "\n",
    "nlp = spacy.load('en_core_web_sm')"
   ]
  },
  {
   "cell_type": "code",
   "execution_count": 6,
   "id": "initial-herald",
   "metadata": {},
   "outputs": [],
   "source": [
    "test_target = xsum_target[0]\n",
    "test_source = xsum_source[0]"
   ]
  },
  {
   "cell_type": "code",
   "execution_count": 7,
   "id": "posted-aaron",
   "metadata": {},
   "outputs": [],
   "source": [
    "extracted_ents = nlp(test_target).to_json()['ents']"
   ]
  },
  {
   "cell_type": "code",
   "execution_count": 8,
   "id": "solid-tiger",
   "metadata": {},
   "outputs": [
    {
     "data": {
      "text/plain": [
       "[{'start': 79, 'end': 91, 'label': 'LOC'},\n",
       " {'start': 96, 'end': 106, 'label': 'PRODUCT'}]"
      ]
     },
     "execution_count": 8,
     "metadata": {},
     "output_type": "execute_result"
    }
   ],
   "source": [
    "extracted_ents"
   ]
  },
  {
   "cell_type": "markdown",
   "id": "planned-double",
   "metadata": {},
   "source": [
    "#### Calculate Probability for Each Extracted Entity"
   ]
  },
  {
   "cell_type": "code",
   "execution_count": 9,
   "id": "inclusive-piano",
   "metadata": {},
   "outputs": [],
   "source": [
    "from model import ConditionalSequenceGenerator\n",
    "from utils import prepare_cmlm_inputs, prepare_clm_inputs, get_cmlm_probability"
   ]
  },
  {
   "cell_type": "code",
   "execution_count": 10,
   "id": "sublime-blind",
   "metadata": {},
   "outputs": [],
   "source": [
    "model = ConditionalSequenceGenerator(bart)"
   ]
  },
  {
   "cell_type": "code",
   "execution_count": 11,
   "id": "faced-alberta",
   "metadata": {},
   "outputs": [],
   "source": [
    "inputs = prepare_cmlm_inputs(test_source, test_target, extracted_ents)"
   ]
  },
  {
   "cell_type": "code",
   "execution_count": 12,
   "id": "applied-telling",
   "metadata": {},
   "outputs": [
    {
     "data": {
      "text/plain": [
       "(['<s> New sand dunes may be created to reduce the risk of flooding on a beach on the ### and Flintshire border. <\\\\s> Severe storms in December 2013 caused damage to an existing dune system to the east of Barkby Beach in Prestatyn. A report, to be considered by Denbighshire councillors, says there is evidence they have begun to re-establish themselves naturally. But the council is considering creating a secondary dune system to strengthen the defences. The flood risk management report says: \"The  narrowness of the dunes at Barkby Beach is a cause for serious concern. \"Discussions have taken place with Natural Resources Wales regarding possible options to reduce the risk of a breach at this location. \"This could be such as creating a secondary dune system on the landward side of the existing dunes.\" About 400 people were forced to leave their homes after high tides and gale force winds battered north Wales causing flooding last December. In Rhyl, Denbighshire - one of the worst-hit areas - hundreds of properties were without power.',\n",
       "  '<s> New sand dunes may be created to reduce the risk of flooding on a beach on the Denbighshire and ### border. <\\\\s> Severe storms in December 2013 caused damage to an existing dune system to the east of Barkby Beach in Prestatyn. A report, to be considered by Denbighshire councillors, says there is evidence they have begun to re-establish themselves naturally. But the council is considering creating a secondary dune system to strengthen the defences. The flood risk management report says: \"The  narrowness of the dunes at Barkby Beach is a cause for serious concern. \"Discussions have taken place with Natural Resources Wales regarding possible options to reduce the risk of a breach at this location. \"This could be such as creating a secondary dune system on the landward side of the existing dunes.\" About 400 people were forced to leave their homes after high tides and gale force winds battered north Wales causing flooding last December. In Rhyl, Denbighshire - one of the worst-hit areas - hundreds of properties were without power.'],\n",
       " ['<s> New sand dunes may be created to reduce the risk of flooding on a beach on the Denbighshire and Flintshire border.',\n",
       "  '<s> New sand dunes may be created to reduce the risk of flooding on a beach on the Denbighshire and Flintshire border.'],\n",
       " [(83, 95), (100, 110)],\n",
       " ['Denbighshire', 'Flintshire'])"
      ]
     },
     "execution_count": 12,
     "metadata": {},
     "output_type": "execute_result"
    }
   ],
   "source": [
    "inputs"
   ]
  },
  {
   "cell_type": "markdown",
   "id": "banner-walker",
   "metadata": {},
   "source": [
    "#### Calculate Probability"
   ]
  },
  {
   "cell_type": "code",
   "execution_count": 13,
   "id": "younger-domain",
   "metadata": {},
   "outputs": [],
   "source": [
    "entity_probs = get_cmlm_probability(model, inputs[0], inputs[1], inputs[2], inputs[3])"
   ]
  },
  {
   "cell_type": "code",
   "execution_count": 14,
   "id": "painful-panel",
   "metadata": {},
   "outputs": [
    {
     "data": {
      "text/plain": [
       "[0.434326171875, 0.1956787109375]"
      ]
     },
     "execution_count": 14,
     "metadata": {},
     "output_type": "execute_result"
    }
   ],
   "source": [
    "entity_probs"
   ]
  },
  {
   "cell_type": "markdown",
   "id": "earlier-nevada",
   "metadata": {},
   "source": [
    "#### Masking Entity"
   ]
  },
  {
   "cell_type": "code",
   "execution_count": 15,
   "id": "coordinate-maximum",
   "metadata": {},
   "outputs": [],
   "source": [
    "import random"
   ]
  },
  {
   "cell_type": "code",
   "execution_count": 16,
   "id": "amended-reynolds",
   "metadata": {},
   "outputs": [],
   "source": [
    "masked_target = inputs[1][0]\n",
    "\n",
    "cal = 0\n",
    "for p, e in zip(entity_probs, inputs[2]):\n",
    "    if random.random() < p:\n",
    "        masked_target = masked_target[:e[0] + cal] + '<UNC>' + masked_target[e[1] + cal:]\n",
    "        cal = 5 - (e[1] - e[0])"
   ]
  },
  {
   "cell_type": "code",
   "execution_count": 17,
   "id": "systematic-alcohol",
   "metadata": {},
   "outputs": [
    {
     "data": {
      "text/plain": [
       "'<s> New sand dunes may be created to reduce the risk of flooding on a beach on the Denbighshire and Flintshire border.'"
      ]
     },
     "execution_count": 17,
     "metadata": {},
     "output_type": "execute_result"
    }
   ],
   "source": [
    "masked_target"
   ]
  },
  {
   "cell_type": "code",
   "execution_count": null,
   "id": "limiting-wayne",
   "metadata": {},
   "outputs": [],
   "source": []
  }
 ],
 "metadata": {
  "kernelspec": {
   "display_name": "Python 3",
   "language": "python",
   "name": "python3"
  },
  "language_info": {
   "codemirror_mode": {
    "name": "ipython",
    "version": 3
   },
   "file_extension": ".py",
   "mimetype": "text/x-python",
   "name": "python",
   "nbconvert_exporter": "python",
   "pygments_lexer": "ipython3",
   "version": "3.7.4"
  }
 },
 "nbformat": 4,
 "nbformat_minor": 5
}
