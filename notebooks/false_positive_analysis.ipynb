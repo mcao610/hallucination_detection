{
 "cells": [
  {
   "cell_type": "code",
   "execution_count": 1,
   "id": "fancy-audience",
   "metadata": {},
   "outputs": [],
   "source": [
    "import json\n",
    "import torch\n",
    "\n",
    "from utils import read_lines"
   ]
  },
  {
   "cell_type": "code",
   "execution_count": 2,
   "id": "rising-america",
   "metadata": {},
   "outputs": [],
   "source": [
    "PATH = json.load(open('../path_config.json'))"
   ]
  },
  {
   "cell_type": "code",
   "execution_count": 3,
   "id": "expensive-slave",
   "metadata": {},
   "outputs": [],
   "source": [
    "xsum_source = read_lines(PATH['xsum_fariseq'] + '/test.source')\n",
    "xsum_target = read_lines(PATH['xsum_fariseq'] + '/test.target')\n",
    "xsum_predic = read_lines('/home/mcao610/fairseq/preds/xsum_noise/xsum_noise_100.hypo')"
   ]
  },
  {
   "cell_type": "markdown",
   "id": "innocent-calculator",
   "metadata": {},
   "source": [
    "#### Evaluate"
   ]
  },
  {
   "cell_type": "code",
   "execution_count": 6,
   "id": "basic-bearing",
   "metadata": {},
   "outputs": [],
   "source": [
    "import spacy\n",
    "from tqdm import tqdm\n",
    "\n",
    "nlp = spacy.load('en_core_web_sm')"
   ]
  },
  {
   "cell_type": "code",
   "execution_count": 7,
   "id": "cubic-monitoring",
   "metadata": {},
   "outputs": [
    {
     "name": "stderr",
     "output_type": "stream",
     "text": [
      "100%|██████████| 11301/11301 [01:15<00:00, 150.59it/s]\n"
     ]
    }
   ],
   "source": [
    "total_entities = 0\n",
    "overlap = []\n",
    "\n",
    "for index in tqdm(range(len(xsum_source))):\n",
    "    source_doc = xsum_source[index]\n",
    "    target_doc = xsum_target[index]\n",
    "    prediction = xsum_predic[index]\n",
    "    \n",
    "    # extract entities from prediction\n",
    "    ent_parts = nlp(prediction).to_json()['ents']\n",
    "    entities = [prediction[e['start']: e['end']] for e in ent_parts]\n",
    "    total_entities += len(entities)\n",
    "    \n",
    "    for e in entities:\n",
    "        if e[:4] == 'the ': e = e[4:]\n",
    "        if e.lower() in source_doc.lower():\n",
    "            overlap.append(1)\n",
    "        else:\n",
    "            overlap.append(0)"
   ]
  },
  {
   "cell_type": "code",
   "execution_count": null,
   "id": "statistical-destruction",
   "metadata": {},
   "outputs": [],
   "source": [
    "sum(overlap) / total_entities"
   ]
  }
 ],
 "metadata": {
  "kernelspec": {
   "display_name": "Python 3",
   "language": "python",
   "name": "python3"
  },
  "language_info": {
   "codemirror_mode": {
    "name": "ipython",
    "version": 3
   },
   "file_extension": ".py",
   "mimetype": "text/x-python",
   "name": "python",
   "nbconvert_exporter": "python",
   "pygments_lexer": "ipython3",
   "version": "3.7.4"
  }
 },
 "nbformat": 4,
 "nbformat_minor": 5
}
