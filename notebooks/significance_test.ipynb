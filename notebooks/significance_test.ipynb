{
 "cells": [
  {
   "cell_type": "code",
   "execution_count": 1,
   "id": "647780a1-2dc5-41b1-a499-37079a67d06f",
   "metadata": {},
   "outputs": [],
   "source": [
    "import numpy as np\n",
    "\n",
    "from scipy import stats"
   ]
  },
  {
   "cell_type": "code",
   "execution_count": 2,
   "id": "86dec2e9-6e5d-48d2-861c-655039476072",
   "metadata": {},
   "outputs": [],
   "source": [
    "rng = np.random.default_rng()"
   ]
  },
  {
   "cell_type": "code",
   "execution_count": 3,
   "id": "30cbf836-baf4-48f1-ba84-1b90c7b08381",
   "metadata": {},
   "outputs": [],
   "source": [
    "rvs1 = stats.norm.rvs(loc=5, scale=10, size=500, random_state=rng)\n",
    "rvs2 = (stats.norm.rvs(loc=5, scale=10, size=500, random_state=rng) + stats.norm.rvs(scale=0.2, size=500, random_state=rng))"
   ]
  },
  {
   "cell_type": "code",
   "execution_count": 4,
   "id": "ba3761be-8349-47d2-adbc-fc0028cc8a4e",
   "metadata": {},
   "outputs": [
    {
     "data": {
      "text/plain": [
       "Ttest_relResult(statistic=1.0067474270912788, pvalue=0.31454409081748497)"
      ]
     },
     "execution_count": 4,
     "metadata": {},
     "output_type": "execute_result"
    }
   ],
   "source": [
    "stats.ttest_rel(rvs1, rvs2)"
   ]
  },
  {
   "cell_type": "code",
   "execution_count": 5,
   "id": "fcb7f699-db0b-4402-a592-99edb68e7708",
   "metadata": {},
   "outputs": [],
   "source": [
    "rvs3 = (stats.norm.rvs(loc=8, scale=10, size=500, random_state=rng) + stats.norm.rvs(scale=0.2, size=500, random_state=rng))"
   ]
  },
  {
   "cell_type": "code",
   "execution_count": 6,
   "id": "e3ea659c-e4c0-4c78-b169-ca054ec82532",
   "metadata": {},
   "outputs": [
    {
     "data": {
      "text/plain": [
       "Ttest_relResult(statistic=-3.632648737917363, pvalue=0.0003095589775867637)"
      ]
     },
     "execution_count": 6,
     "metadata": {},
     "output_type": "execute_result"
    }
   ],
   "source": [
    "stats.ttest_rel(rvs1, rvs3)"
   ]
  },
  {
   "cell_type": "code",
   "execution_count": 7,
   "id": "9737eed6-376d-4c14-bd1a-df97ca02e130",
   "metadata": {},
   "outputs": [],
   "source": [
    "model_10 = [0.971830985915493,\n",
    " 0.9154929577464789,\n",
    " 0.9295774647887324,\n",
    " 0.9014084507042254,\n",
    " 0.8873239436619719,\n",
    " 0.9154929577464789,\n",
    " 0.9014084507042254,\n",
    " 0.9428571428571428,\n",
    " 0.9428571428571428,\n",
    " 0.8571428571428571]\n",
    "\n",
    "model_20 = [0.9722222222222222,\n",
    " 1.0,\n",
    " 0.8888888888888888,\n",
    " 0.8888888888888888,\n",
    " 0.9444444444444444,\n",
    " 0.9166666666666666,\n",
    " 0.9166666666666666,\n",
    " 0.8857142857142857,\n",
    " 0.8,\n",
    " 0.9714285714285714,\n",
    " 0.9428571428571428,\n",
    " 0.8857142857142857,\n",
    " 0.8857142857142857,\n",
    " 0.9142857142857143,\n",
    " 1.0,\n",
    " 0.8857142857142857,\n",
    " 0.9428571428571428,\n",
    " 0.9428571428571428,\n",
    " 0.8285714285714286,\n",
    " 0.8571428571428571]\n",
    "\n",
    "model_30 = [1.0,\n",
    " 0.9583333333333334,\n",
    " 0.9583333333333334,\n",
    " 0.875,\n",
    " 0.9583333333333334,\n",
    " 0.8333333333333334,\n",
    " 0.9583333333333334,\n",
    " 0.9583333333333334,\n",
    " 0.9166666666666666,\n",
    " 0.875,\n",
    " 0.9166666666666666,\n",
    " 0.875,\n",
    " 0.7916666666666666,\n",
    " 0.7916666666666666,\n",
    " 0.9583333333333334,\n",
    " 0.9583333333333334,\n",
    " 0.875,\n",
    " 0.9565217391304348,\n",
    " 0.8260869565217391,\n",
    " 0.8695652173913043,\n",
    " 0.8695652173913043,\n",
    " 1.0,\n",
    " 1.0,\n",
    " 0.8695652173913043,\n",
    " 0.9565217391304348,\n",
    " 0.8695652173913043,\n",
    " 0.9565217391304348,\n",
    " 0.8695652173913043,\n",
    " 0.8695652173913043,\n",
    " 0.8695652173913043]"
   ]
  },
  {
   "cell_type": "code",
   "execution_count": 8,
   "id": "54673c4e-8503-41ba-a9ba-743df231a00c",
   "metadata": {},
   "outputs": [],
   "source": [
    "baseline_10 = [0.9154929577464789,\n",
    " 0.8450704225352113,\n",
    " 0.8873239436619719,\n",
    " 0.8732394366197183,\n",
    " 0.8028169014084507,\n",
    " 0.9295774647887324,\n",
    " 0.8309859154929577,\n",
    " 0.9285714285714286,\n",
    " 0.9285714285714286,\n",
    " 0.8285714285714286]\n",
    "\n",
    "\n",
    "baseline_20 = [0.8611111111111112,\n",
    " 0.9722222222222222,\n",
    " 0.8888888888888888,\n",
    " 0.7777777777777778,\n",
    " 0.9444444444444444,\n",
    " 0.8611111111111112,\n",
    " 0.8333333333333334,\n",
    " 0.8857142857142857,\n",
    " 0.7142857142857143,\n",
    " 0.9714285714285714,\n",
    " 0.9428571428571428,\n",
    " 0.9142857142857143,\n",
    " 0.8285714285714286,\n",
    " 0.9142857142857143,\n",
    " 0.9142857142857143,\n",
    " 0.9142857142857143,\n",
    " 0.8285714285714286,\n",
    " 1.0,\n",
    " 0.8,\n",
    " 0.8857142857142857]\n",
    "\n",
    "\n",
    "baseline_30 = [0.8333333333333334,\n",
    " 0.9583333333333334,\n",
    " 0.9583333333333334,\n",
    " 0.9166666666666666,\n",
    " 0.9166666666666666,\n",
    " 0.6666666666666666,\n",
    " 0.9166666666666666,\n",
    " 1.0,\n",
    " 0.7916666666666666,\n",
    " 0.8333333333333334,\n",
    " 0.875,\n",
    " 0.875,\n",
    " 0.75,\n",
    " 0.75,\n",
    " 0.9583333333333334,\n",
    " 0.9583333333333334,\n",
    " 0.875,\n",
    " 0.9565217391304348,\n",
    " 0.8260869565217391,\n",
    " 0.8695652173913043,\n",
    " 0.8695652173913043,\n",
    " 0.9565217391304348,\n",
    " 0.9565217391304348,\n",
    " 0.9130434782608695,\n",
    " 0.8695652173913043,\n",
    " 0.9130434782608695,\n",
    " 0.9565217391304348,\n",
    " 0.8260869565217391,\n",
    " 0.8260869565217391,\n",
    " 0.9130434782608695]"
   ]
  },
  {
   "cell_type": "code",
   "execution_count": 9,
   "id": "e4b74799-febd-4307-b403-a61d02de3c9d",
   "metadata": {},
   "outputs": [
    {
     "data": {
      "text/plain": [
       "Ttest_relResult(statistic=4.037924375034723, pvalue=0.002937751660280406)"
      ]
     },
     "execution_count": 9,
     "metadata": {},
     "output_type": "execute_result"
    }
   ],
   "source": [
    "stats.ttest_rel(model_10, baseline_10)"
   ]
  },
  {
   "cell_type": "code",
   "execution_count": 10,
   "id": "a97fa8b2-fd2d-429b-9b28-8de3a08157c8",
   "metadata": {},
   "outputs": [
    {
     "data": {
      "text/plain": [
       "Ttest_relResult(statistic=2.59027830356241, pvalue=0.0179536198922527)"
      ]
     },
     "execution_count": 10,
     "metadata": {},
     "output_type": "execute_result"
    }
   ],
   "source": [
    "stats.ttest_rel(model_20, baseline_20)"
   ]
  },
  {
   "cell_type": "code",
   "execution_count": 11,
   "id": "81efd2a9-d78b-455a-a953-e5f1262093d1",
   "metadata": {},
   "outputs": [
    {
     "data": {
      "text/plain": [
       "Ttest_relResult(statistic=2.5204249034455137, pvalue=0.0174790503905336)"
      ]
     },
     "execution_count": 11,
     "metadata": {},
     "output_type": "execute_result"
    }
   ],
   "source": [
    "stats.ttest_rel(model_30, baseline_30)"
   ]
  },
  {
   "cell_type": "markdown",
   "id": "f3317df0-5948-4d11-918d-788d788843cb",
   "metadata": {},
   "source": [
    "#### McNemar Test"
   ]
  },
  {
   "cell_type": "code",
   "execution_count": 12,
   "id": "19d5c381-801f-40b4-8ff1-3156640f04e8",
   "metadata": {},
   "outputs": [],
   "source": [
    "model = [0, 0, 1, 1, 1, 1, 1, 0, 0, 1, 1, 1, 1, 1, 1, 1, 1, 1, 0, 1, 1, 1,\n",
    "       1, 1, 1, 1, 1, 1, 1, 1, 1, 1, 1, 0, 1, 1, 1, 1, 1, 1, 1, 1, 1, 1,\n",
    "       1, 1, 1, 1, 1, 1, 0, 1, 1, 0, 0, 1, 1, 1, 1, 1, 0, 1, 1, 1, 1, 1,\n",
    "       1, 1, 1, 0, 1, 1, 1, 0, 1, 1, 1, 1, 1, 0, 1, 1, 1, 1, 1, 0, 1, 1,\n",
    "       1, 1, 1, 1, 1, 1, 1, 1, 1, 1, 1, 1, 0, 1, 0, 1, 1, 1, 1, 1, 1, 1,\n",
    "       1, 1, 1, 1, 1, 1, 1, 1, 1, 0, 1, 1, 0, 1, 1, 1, 0, 1, 1, 1, 1, 1,\n",
    "       1, 1, 0, 1, 1, 1, 0, 1, 1, 1, 1, 1, 1, 1, 1, 1, 1, 1, 0, 1, 1, 1,\n",
    "       0, 1, 1, 1, 1, 0, 1, 1, 0, 1, 1, 1, 1, 1, 1, 1, 1, 1, 1, 1, 1, 1,\n",
    "       1, 1, 1, 1, 1, 1, 1, 1, 1, 1, 1, 1, 1, 1, 1, 1, 1, 0, 1, 1, 1, 1,\n",
    "       1, 1, 1, 0, 1, 1, 1]"
   ]
  },
  {
   "cell_type": "code",
   "execution_count": 13,
   "id": "29a3c70b-c8ba-480b-be2b-10e9a297195b",
   "metadata": {},
   "outputs": [],
   "source": [
    "label = [0, 0, 1, 1, 1, 1, 1, 1, 0, 1, 1, 1, 1, 1, 1, 1, 1, 1, 1, 1, 1, 1,\n",
    "       1, 1, 1, 1, 1, 1, 1, 1, 1, 1, 1, 1, 1, 1, 1, 1, 1, 1, 1, 1, 1, 1,\n",
    "       1, 1, 0, 1, 1, 1, 1, 1, 1, 0, 1, 1, 1, 1, 1, 1, 0, 1, 1, 1, 1, 1,\n",
    "       1, 1, 1, 0, 1, 1, 0, 0, 1, 1, 1, 0, 1, 0, 0, 1, 1, 1, 1, 0, 1, 1,\n",
    "       1, 1, 1, 1, 0, 0, 1, 1, 1, 1, 1, 1, 0, 1, 1, 0, 1, 1, 1, 1, 1, 1,\n",
    "       1, 1, 1, 1, 1, 1, 1, 1, 1, 0, 1, 0, 1, 1, 1, 1, 0, 1, 1, 1, 1, 1,\n",
    "       1, 1, 0, 1, 1, 1, 0, 1, 1, 1, 1, 1, 1, 1, 1, 1, 1, 1, 0, 1, 1, 1,\n",
    "       0, 1, 1, 1, 1, 1, 1, 1, 0, 1, 1, 1, 1, 1, 1, 1, 1, 1, 1, 1, 1, 1,\n",
    "       1, 1, 1, 1, 1, 1, 1, 1, 1, 1, 1, 1, 1, 1, 1, 1, 1, 0, 1, 1, 1, 1,\n",
    "       1, 1, 1, 1, 1, 1, 1]"
   ]
  },
  {
   "cell_type": "code",
   "execution_count": 14,
   "id": "7d56a20f-a176-43a2-8b6b-360b5ff6aab3",
   "metadata": {},
   "outputs": [],
   "source": [
    "baseline = [1, 1, 1, 1, 1, 1, 1, 1, 1, 0, 1, 1, 1, 1, 1, 1, 1, 1, 1, 0, 1, 1,\n",
    "       1, 1, 1, 1, 1, 1, 1, 0, 1, 1, 1, 1, 1, 1, 1, 1, 1, 1, 1, 1, 1, 1,\n",
    "       1, 0, 1, 1, 1, 1, 1, 1, 1, 0, 1, 1, 0, 1, 1, 1, 1, 1, 1, 1, 1, 1,\n",
    "       1, 1, 1, 0, 1, 1, 1, 1, 1, 1, 0, 1, 1, 1, 1, 1, 1, 1, 1, 1, 0, 1,\n",
    "       1, 1, 1, 1, 1, 1, 0, 1, 1, 1, 1, 1, 1, 1, 1, 1, 1, 1, 1, 1, 1, 1,\n",
    "       1, 0, 1, 0, 1, 0, 1, 1, 1, 1, 1, 1, 1, 0, 1, 1, 1, 0, 1, 1, 1, 1,\n",
    "       1, 1, 1, 1, 1, 1, 1, 1, 0, 1, 1, 1, 1, 1, 1, 1, 1, 1, 1, 1, 1, 1,\n",
    "       1, 1, 0, 1, 1, 1, 0, 1, 1, 1, 1, 1, 1, 1, 1, 1, 0, 1, 1, 1, 1, 1,\n",
    "       1, 1, 1, 1, 1, 1, 1, 1, 1, 1, 0, 1, 1, 1, 1, 1, 1, 1, 1, 0, 1, 1,\n",
    "       1, 1, 1, 1, 1, 1, 1, 0, 1]"
   ]
  },
  {
   "cell_type": "code",
   "execution_count": 15,
   "id": "0e86a5bb-521d-4d27-aaf2-dc88e278e979",
   "metadata": {},
   "outputs": [],
   "source": [
    "#                      Classifier2 Correct, Classifier2 Incorrect\n",
    "# Classifier1 Correct         ??                      ??\n",
    "# Classifier1 Incorrect       ??                      ??\n",
    "table = [[0, 0],\n",
    "         [0, 0]]\n",
    "\n",
    "for x, y, z in zip(model, baseline, label):\n",
    "    if x == y == z:\n",
    "        table[0][0] += 1\n",
    "    elif x != z and y != z:\n",
    "        table[1][1] += 1\n",
    "    elif x == z and y != z:\n",
    "        table[0][1] += 1\n",
    "    elif x != z and y == z:\n",
    "        table[1][0] += 1\n",
    "    else:\n",
    "        print('error')"
   ]
  },
  {
   "cell_type": "code",
   "execution_count": 16,
   "id": "c3fb1084-59bf-443d-9f8e-085bec3d4685",
   "metadata": {},
   "outputs": [
    {
     "data": {
      "text/plain": [
       "[[153, 35], [9, 8]]"
      ]
     },
     "execution_count": 16,
     "metadata": {},
     "output_type": "execute_result"
    }
   ],
   "source": [
    "table"
   ]
  },
  {
   "cell_type": "code",
   "execution_count": 17,
   "id": "d9e8f443-4cc7-4805-929f-76b5080573bd",
   "metadata": {},
   "outputs": [],
   "source": [
    "from statsmodels.stats.contingency_tables import mcnemar"
   ]
  },
  {
   "cell_type": "code",
   "execution_count": 18,
   "id": "498bc1f7-d1e3-4287-ab8e-64b3a37d883a",
   "metadata": {},
   "outputs": [
    {
     "name": "stdout",
     "output_type": "stream",
     "text": [
      "pvalue      0.00016397393898231831\n",
      "statistic   14.204545454545455\n"
     ]
    }
   ],
   "source": [
    "print(mcnemar(table, exact=False, correction=True))"
   ]
  }
 ],
 "metadata": {
  "kernelspec": {
   "display_name": "Python 3 (ipykernel)",
   "language": "python",
   "name": "python3"
  },
  "language_info": {
   "codemirror_mode": {
    "name": "ipython",
    "version": 3
   },
   "file_extension": ".py",
   "mimetype": "text/x-python",
   "name": "python",
   "nbconvert_exporter": "python",
   "pygments_lexer": "ipython3",
   "version": "3.7.7"
  }
 },
 "nbformat": 4,
 "nbformat_minor": 5
}
