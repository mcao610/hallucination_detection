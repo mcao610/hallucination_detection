{
 "cells": [
  {
   "cell_type": "code",
   "execution_count": 43,
   "id": "conventional-glucose",
   "metadata": {},
   "outputs": [],
   "source": [
    "import json\n",
    "\n",
    "from scipy import stats"
   ]
  },
  {
   "cell_type": "markdown",
   "id": "composite-schedule",
   "metadata": {},
   "source": [
    "#### Read Google Dataset"
   ]
  },
  {
   "cell_type": "code",
   "execution_count": 44,
   "id": "involved-stream",
   "metadata": {},
   "outputs": [],
   "source": [
    "factuality_data = json.load(open('../data/xsum_hallucination_annotations/factuality_annotations_xsum_summaries.json'))\n",
    "hallucination_data = json.load(open('../data/xsum_hallucination_annotations/hallucination_annotations_xsum_summaries.json'))"
   ]
  },
  {
   "cell_type": "code",
   "execution_count": 45,
   "id": "modern-nirvana",
   "metadata": {},
   "outputs": [
    {
     "name": "stdout",
     "output_type": "stream",
     "text": [
      "5597\n",
      "11185\n"
     ]
    }
   ],
   "source": [
    "print(len(factuality_data))\n",
    "print(len(hallucination_data))"
   ]
  },
  {
   "cell_type": "code",
   "execution_count": 46,
   "id": "useful-stewart",
   "metadata": {},
   "outputs": [
    {
     "data": {
      "text/plain": [
       "{'bbcid': 29911712,\n",
       " 'system': 'BERTS2S',\n",
       " 'summary': 'more than 50 pupils at a bristol academy have been sent home from school because of a lack of uniform.',\n",
       " 'is_factual': 'no',\n",
       " 'worker_id': 'wid_0'}"
      ]
     },
     "execution_count": 46,
     "metadata": {},
     "output_type": "execute_result"
    }
   ],
   "source": [
    "factuality_data[0]"
   ]
  },
  {
   "cell_type": "code",
   "execution_count": 47,
   "id": "historical-elimination",
   "metadata": {},
   "outputs": [
    {
     "data": {
      "text/plain": [
       "{'bbcid': 34687720,\n",
       " 'system': 'BERTS2S',\n",
       " 'summary': 'rory mcilroy will take a one-shot lead into the final round of the wgc-hsbc champions after carding a three-under',\n",
       " 'hallucination_type': 'extrinsic',\n",
       " 'hallucinated_span': 'rory mcilroy will take a one-shot lead into the final round of the wgc-hsbc champions after carding a three-under',\n",
       " 'worker_id': 'wid_0'}"
      ]
     },
     "execution_count": 47,
     "metadata": {},
     "output_type": "execute_result"
    }
   ],
   "source": [
    "hallucination_data[0]"
   ]
  },
  {
   "cell_type": "markdown",
   "id": "facial-things",
   "metadata": {},
   "source": [
    "#### "
   ]
  },
  {
   "cell_type": "markdown",
   "id": "sealed-concentrate",
   "metadata": {},
   "source": [
    "#### Read Calculated Probability"
   ]
  },
  {
   "cell_type": "code",
   "execution_count": 48,
   "id": "abroad-breakfast",
   "metadata": {},
   "outputs": [],
   "source": [
    "google_data_with_proba = json.load(open('../data/Maynez_entity_data_with_prob.json'))"
   ]
  },
  {
   "cell_type": "code",
   "execution_count": 49,
   "id": "concerned-covering",
   "metadata": {},
   "outputs": [
    {
     "data": {
      "text/plain": [
       "{'summary': 'rory mcilroy moved to within a shot of joint leaders victor dubuisson and jaco van zyl after the third round of the turkish airlines open.',\n",
       " 'summary_upper': 'Rory McIlroy moved to within a shot of joint leaders Victor Dubuisson and Jaco van Zyl after the third round of the Turkish Airlines open .',\n",
       " 'ents': [{'start': 0,\n",
       "   'end': 4,\n",
       "   'label': -1,\n",
       "   'type': 'PERSON',\n",
       "   'ent': 'Rory',\n",
       "   'bart.large': 0.380859375,\n",
       "   'xsum_cmlm_bos': 0.93017578125,\n",
       "   'cnndm_cmlm_cedar': 0.180908203125,\n",
       "   'bart.large.xsum': 0.65087890625},\n",
       "  {'start': 5,\n",
       "   'end': 12,\n",
       "   'label': -1,\n",
       "   'type': 'PERSON',\n",
       "   'ent': 'McIlroy',\n",
       "   'bart.large': 0.9189453125,\n",
       "   'xsum_cmlm_bos': 0.78173828125,\n",
       "   'cnndm_cmlm_cedar': 0.81103515625,\n",
       "   'bart.large.xsum': 0.806640625},\n",
       "  {'start': 53,\n",
       "   'end': 59,\n",
       "   'label': -1,\n",
       "   'type': 'PERSON',\n",
       "   'ent': 'Victor',\n",
       "   'bart.large': 0.0023136138916015625,\n",
       "   'xsum_cmlm_bos': 0.000522613525390625,\n",
       "   'cnndm_cmlm_cedar': 0.0006346702575683594,\n",
       "   'bart.large.xsum': 0.00011754035949707031},\n",
       "  {'start': 60,\n",
       "   'end': 69,\n",
       "   'label': -1,\n",
       "   'type': 'PERSON',\n",
       "   'ent': 'Dubuisson',\n",
       "   'bart.large': 0.97119140625,\n",
       "   'xsum_cmlm_bos': 0.82958984375,\n",
       "   'cnndm_cmlm_cedar': 0.73779296875,\n",
       "   'bart.large.xsum': 0.78466796875},\n",
       "  {'start': 74,\n",
       "   'end': 78,\n",
       "   'label': -1,\n",
       "   'type': 'PERSON',\n",
       "   'ent': 'Jaco',\n",
       "   'bart.large': 0.048187255859375,\n",
       "   'xsum_cmlm_bos': 0.0057220458984375,\n",
       "   'cnndm_cmlm_cedar': 0.00045418739318847656,\n",
       "   'bart.large.xsum': 0.564453125},\n",
       "  {'start': 79,\n",
       "   'end': 82,\n",
       "   'label': -1,\n",
       "   'type': 'PERSON',\n",
       "   'ent': 'van',\n",
       "   'bart.large': 0.53369140625,\n",
       "   'xsum_cmlm_bos': 0.46484375,\n",
       "   'cnndm_cmlm_cedar': 0.0237579345703125,\n",
       "   'bart.large.xsum': 0.86083984375},\n",
       "  {'start': 83,\n",
       "   'end': 86,\n",
       "   'label': -1,\n",
       "   'type': 'PERSON',\n",
       "   'ent': 'Zyl',\n",
       "   'bart.large': 0.75,\n",
       "   'xsum_cmlm_bos': 0.90576171875,\n",
       "   'cnndm_cmlm_cedar': 0.763671875,\n",
       "   'bart.large.xsum': 0.89599609375},\n",
       "  {'start': 97,\n",
       "   'end': 102,\n",
       "   'label': -1,\n",
       "   'type': 'ORDINAL',\n",
       "   'ent': 'third',\n",
       "   'bart.large': 0.107666015625,\n",
       "   'xsum_cmlm_bos': 0.1309814453125,\n",
       "   'cnndm_cmlm_cedar': 0.12890625,\n",
       "   'bart.large.xsum': 0.257080078125},\n",
       "  {'start': 116,\n",
       "   'end': 132,\n",
       "   'label': -1,\n",
       "   'type': 'ORG',\n",
       "   'ent': 'Turkish Airlines',\n",
       "   'bart.large': 0.0064544677734375,\n",
       "   'xsum_cmlm_bos': 1.5437602996826172e-05,\n",
       "   'cnndm_cmlm_cedar': 1.0132789611816406e-06,\n",
       "   'bart.large.xsum': 0.0006804466247558594}]}"
      ]
     },
     "execution_count": 49,
     "metadata": {},
     "output_type": "execute_result"
    }
   ],
   "source": [
    "google_data_with_proba['34687720']['Gold']"
   ]
  },
  {
   "cell_type": "markdown",
   "id": "renewable-origin",
   "metadata": {},
   "source": [
    "#### Claculate Factuality Correlation"
   ]
  },
  {
   "cell_type": "code",
   "execution_count": 50,
   "id": "effective-forwarding",
   "metadata": {},
   "outputs": [],
   "source": [
    "import pickle\n",
    "import numpy as np\n",
    "\n",
    "from utils import read_document"
   ]
  },
  {
   "cell_type": "code",
   "execution_count": 51,
   "id": "dramatic-literature",
   "metadata": {},
   "outputs": [
    {
     "data": {
      "text/plain": [
       "{'bbcid': 29911712,\n",
       " 'system': 'BERTS2S',\n",
       " 'summary': 'more than 50 pupils at a bristol academy have been sent home from school because of a lack of uniform.',\n",
       " 'is_factual': 'no',\n",
       " 'worker_id': 'wid_1'}"
      ]
     },
     "execution_count": 51,
     "metadata": {},
     "output_type": "execute_result"
    }
   ],
   "source": [
    "factuality_data[1]"
   ]
  },
  {
   "cell_type": "code",
   "execution_count": 52,
   "id": "twelve-ministry",
   "metadata": {},
   "outputs": [],
   "source": [
    "factuality = {}\n",
    "for i, f in enumerate(factuality_data):\n",
    "    if f['bbcid'] not in factuality:\n",
    "        factuality[f['bbcid']] = {}\n",
    "    if f['system'] not in factuality[f['bbcid']]:\n",
    "        factuality[f['bbcid']][f['system']] = []\n",
    "        \n",
    "    if f['is_factual'] == 'yes':\n",
    "        factuality[f['bbcid']][f['system']].append(True)\n",
    "    elif f['is_factual'] == 'no':\n",
    "        factuality[f['bbcid']][f['system']].append(False)\n",
    "    elif f['is_factual'] is None:\n",
    "        factuality[f['bbcid']][f['system']].append(False)\n",
    "    else:\n",
    "        print(i)\n",
    "        raise Exception('Unkown Label: {}'.format(f['is_factual']))"
   ]
  },
  {
   "cell_type": "code",
   "execution_count": 53,
   "id": "complicated-strap",
   "metadata": {},
   "outputs": [],
   "source": [
    "def factuality_score(scores):\n",
    "    if None in scores: return 0.0\n",
    "    return sum(scores) / len(scores)"
   ]
  },
  {
   "cell_type": "code",
   "execution_count": 54,
   "id": "present-concord",
   "metadata": {},
   "outputs": [],
   "source": [
    "def factuality_score_proba(ents, prob_type='xsum_cmlm_bos'):\n",
    "    posteriors = []\n",
    "    if len(ents) == 0:\n",
    "        return 0.5\n",
    "    for e in ents:\n",
    "        posteriors.append(e[prob_type])\n",
    "    return min(posteriors)"
   ]
  },
  {
   "cell_type": "code",
   "execution_count": 65,
   "id": "muslim-agent",
   "metadata": {},
   "outputs": [],
   "source": [
    "def factuality_score_knn(knn_model, ents, prior_name='bart.large', posterior_name='xsum_cmlm_bos', bbcid=None):\n",
    "    if len(ents) == 0:\n",
    "        return 0.5\n",
    "\n",
    "    priors, posteriors, overlaps = [], [], []\n",
    "    for e in ents:\n",
    "        assert prior_name in e and posterior_name in e\n",
    "        priors.append(e[prior_name])\n",
    "        posteriors.append(e[posterior_name])\n",
    "        if bbcid is not None:\n",
    "            is_entity_in_document = e['ent'].lower() in read_document(int(bbcid), \n",
    "                                                                      '/home/mcao610/scratch/summarization/XSum/xsum-preprocessed/document/').lower()\n",
    "            if is_entity_in_document:\n",
    "                overlaps.append(1)\n",
    "            else:\n",
    "                overlaps.append(0)\n",
    "    \n",
    "    priors = np.array(priors)\n",
    "    posteriors = np.array(posteriors)\n",
    "    if bbcid is not None:\n",
    "        assert len(overlaps) > 0\n",
    "        overlaps = np.array(overlaps)\n",
    "        x_mat = np.vstack([posteriors, priors, overlaps]).transpose()\n",
    "    else:\n",
    "        x_mat = np.vstack([posteriors, priors]).transpose()\n",
    "\n",
    "    preds = knn_model.predict_proba(x_mat)  # [batch_size, 2]\n",
    "    return np.min(preds[:, 1])\n",
    "\n",
    "#     preds = knn_model.predict(x_mat)  # [batch_size, 2]\n",
    "#     return np.min(preds)    "
   ]
  },
  {
   "cell_type": "code",
   "execution_count": 66,
   "id": "hired-graduation",
   "metadata": {},
   "outputs": [],
   "source": [
    "knn_model = pickle.load(open('classifiers/knn_mlm_cmlm_3.pkl', 'rb'))"
   ]
  },
  {
   "cell_type": "code",
   "execution_count": 67,
   "id": "understood-homework",
   "metadata": {},
   "outputs": [
    {
     "name": "stdout",
     "output_type": "stream",
     "text": [
      "[False, False, False]\n",
      "0.0\n"
     ]
    }
   ],
   "source": [
    "print(factuality[29911712]['BERTS2S'])\n",
    "print(factuality_score(factuality[29911712]['BERTS2S']))"
   ]
  },
  {
   "cell_type": "code",
   "execution_count": 68,
   "id": "breeding-lighting",
   "metadata": {},
   "outputs": [
    {
     "name": "stdout",
     "output_type": "stream",
     "text": [
      "{'summary': 'more than 50 pupils at a bristol academy have been sent home from school because of a lack of uniform.', 'summary_upper': 'More than 50 pupils at a Bristol Academy have been sent home from school because of a lack of uniform .', 'ents': [{'start': 0, 'end': 12, 'label': 0, 'type': 'CARDINAL', 'ent': 'More than 50', 'bart.large': 0.0021419525146484375, 'xsum_cmlm_bos': 0.0176849365234375, 'cnndm_cmlm_cedar': 0.0011053085327148438, 'bart.large.xsum': 0.0126800537109375}, {'start': 25, 'end': 40, 'label': 0, 'type': 'ORG', 'ent': 'Bristol Academy', 'bart.large': 3.0994415283203125e-06, 'xsum_cmlm_bos': 0.0010528564453125, 'cnndm_cmlm_cedar': 7.033348083496094e-06, 'bart.large.xsum': 0.00015664100646972656}]}\n",
      "0.0010528564453125\n"
     ]
    }
   ],
   "source": [
    "print(google_data_with_proba['29911712']['BERTS2S'])\n",
    "print(factuality_score_proba(google_data_with_proba['29911712']['BERTS2S']['ents']))\n",
    "# factuality_score_knn(knn_model, google_data_with_proba['29911712']['BERTS2S']['ents'])\n",
    "# factuality_score_knn(knn_model, google_data_with_proba['29911712']['BERTS2S']['ents'], bbcid='29911712')"
   ]
  },
  {
   "cell_type": "code",
   "execution_count": 129,
   "id": "infinite-abortion",
   "metadata": {},
   "outputs": [],
   "source": [
    "human_factuality_scores = []\n",
    "model_factuality_scores = []\n",
    "knn_factuality_scores = []\n",
    "\n",
    "try:\n",
    "    for bbcid in factuality:\n",
    "        if bbcid == 33928888 or bbcid == 39553812: continue\n",
    "        for system in factuality[bbcid]:\n",
    "            if system in ['TConvS2S', 'PtGen', 'BERTS2S']: continue\n",
    "            human_factuality_scores.append(factuality_score(factuality[bbcid][system]))\n",
    "            model_factuality_scores.append(factuality_score_proba(google_data_with_proba[str(bbcid)][system]['ents']))\n",
    "            knn_factuality_scores.append(factuality_score_knn(\n",
    "                knn_model,\n",
    "                google_data_with_proba[str(bbcid)][system]['ents'],\n",
    "                bbcid=bbcid\n",
    "            ))\n",
    "except:\n",
    "    print(bbcid)\n",
    "    print(system)\n",
    "assert len(human_factuality_scores) == len(model_factuality_scores)"
   ]
  },
  {
   "cell_type": "code",
   "execution_count": 130,
   "id": "accomplished-platinum",
   "metadata": {},
   "outputs": [
    {
     "data": {
      "text/plain": [
       "{'summary': 'a kenyan police officer has been shot dead by a gunman who broke into his farm home, police say.',\n",
       " 'summary_upper': 'A Kenyan police officer has been shot dead by a gunman who broke into his farm home , police say .',\n",
       " 'ents': [{'start': 2,\n",
       "   'end': 8,\n",
       "   'label': 2,\n",
       "   'type': 'NORP',\n",
       "   'ent': 'Kenyan',\n",
       "   'bart.large': 0.0015163421630859375,\n",
       "   'xsum_cmlm_bos': 0.90087890625,\n",
       "   'cnndm_cmlm_cedar': 0.8818359375,\n",
       "   'bart.large.xsum': 0.05084228515625}]}"
      ]
     },
     "execution_count": 130,
     "metadata": {},
     "output_type": "execute_result"
    }
   ],
   "source": [
    "google_data_with_proba['40764446']['BERTS2S']"
   ]
  },
  {
   "cell_type": "code",
   "execution_count": 131,
   "id": "funded-addition",
   "metadata": {},
   "outputs": [
    {
     "data": {
      "text/plain": [
       "[0.0, 0.0, 0.0, 0.0, 0.0, 0.0, 0.0, 0.0, 0.0, 0.0]"
      ]
     },
     "execution_count": 131,
     "metadata": {},
     "output_type": "execute_result"
    }
   ],
   "source": [
    "human_factuality_scores[:10]"
   ]
  },
  {
   "cell_type": "code",
   "execution_count": 132,
   "id": "liquid-contrast",
   "metadata": {},
   "outputs": [
    {
     "data": {
      "text/plain": [
       "[6.377696990966797e-06,\n",
       " 0.026458740234375,\n",
       " 2.2590160369873047e-05,\n",
       " 6.616115570068359e-06,\n",
       " 0.0082855224609375,\n",
       " 0.771484375]"
      ]
     },
     "execution_count": 132,
     "metadata": {},
     "output_type": "execute_result"
    }
   ],
   "source": [
    "model_factuality_scores[:6]"
   ]
  },
  {
   "cell_type": "code",
   "execution_count": 133,
   "id": "endless-polls",
   "metadata": {},
   "outputs": [
    {
     "data": {
      "text/plain": [
       "[0.26666666666666666,\n",
       " 0.2,\n",
       " 0.26666666666666666,\n",
       " 0.3333333333333333,\n",
       " 0.2,\n",
       " 0.9333333333333333]"
      ]
     },
     "execution_count": 133,
     "metadata": {},
     "output_type": "execute_result"
    }
   ],
   "source": [
    "knn_factuality_scores[:6]"
   ]
  },
  {
   "cell_type": "code",
   "execution_count": 134,
   "id": "banner-institution",
   "metadata": {},
   "outputs": [
    {
     "data": {
      "text/plain": [
       "SpearmanrResult(correlation=0.22005071137728505, pvalue=1.348407677527689e-06)"
      ]
     },
     "execution_count": 134,
     "metadata": {},
     "output_type": "execute_result"
    }
   ],
   "source": [
    "stats.spearmanr(human_factuality_scores, knn_factuality_scores)"
   ]
  },
  {
   "cell_type": "code",
   "execution_count": null,
   "id": "acoustic-niagara",
   "metadata": {},
   "outputs": [],
   "source": []
  }
 ],
 "metadata": {
  "kernelspec": {
   "display_name": "Python 3",
   "language": "python",
   "name": "python3"
  },
  "language_info": {
   "codemirror_mode": {
    "name": "ipython",
    "version": 3
   },
   "file_extension": ".py",
   "mimetype": "text/x-python",
   "name": "python",
   "nbconvert_exporter": "python",
   "pygments_lexer": "ipython3",
   "version": "3.7.4"
  }
 },
 "nbformat": 4,
 "nbformat_minor": 5
}
