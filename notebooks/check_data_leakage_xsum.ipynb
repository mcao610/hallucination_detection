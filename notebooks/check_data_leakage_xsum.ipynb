{
 "cells": [
  {
   "cell_type": "code",
   "execution_count": 26,
   "id": "handmade-stick",
   "metadata": {},
   "outputs": [],
   "source": [
    "import json\n",
    "import numpy as np\n",
    "\n",
    "from utils import read_lines"
   ]
  },
  {
   "cell_type": "code",
   "execution_count": 27,
   "id": "fantastic-anaheim",
   "metadata": {},
   "outputs": [],
   "source": [
    "PATH = json.load(open('../path_config.json'))"
   ]
  },
  {
   "cell_type": "code",
   "execution_count": 28,
   "id": "polyphonic-canada",
   "metadata": {},
   "outputs": [
    {
     "name": "stdout",
     "output_type": "stream",
     "text": [
      "11301\n"
     ]
    }
   ],
   "source": [
    "document_path = PATH['xsum_fariseq'] + '/test.source'\n",
    "target_path = PATH['xsum_fariseq'] + '/test.target'\n",
    "test_source = read_lines(document_path)\n",
    "test_target = read_lines(target_path)\n",
    "print(len(test_source))\n",
    "assert len(test_source) == len(test_target)"
   ]
  },
  {
   "cell_type": "code",
   "execution_count": 29,
   "id": "outside-tension",
   "metadata": {},
   "outputs": [
    {
     "name": "stdout",
     "output_type": "stream",
     "text": [
      "203575\n"
     ]
    }
   ],
   "source": [
    "document_path = PATH['xsum_fariseq'] + '/train.source'\n",
    "target_path = PATH['xsum_fariseq'] + '/train.target'\n",
    "train_source = read_lines(document_path)\n",
    "train_target = read_lines(target_path)\n",
    "print(len(train_source))\n",
    "assert len(train_source) == len(train_target)"
   ]
  },
  {
   "cell_type": "markdown",
   "id": "micro-august",
   "metadata": {},
   "source": [
    "#### Inspection"
   ]
  },
  {
   "cell_type": "code",
   "execution_count": 30,
   "id": "included-serbia",
   "metadata": {},
   "outputs": [],
   "source": [
    "sigma_entities = json.load(open('sigma_entities.json'))"
   ]
  },
  {
   "cell_type": "code",
   "execution_count": 31,
   "id": "overall-immune",
   "metadata": {},
   "outputs": [
    {
     "data": {
      "text/plain": [
       "{'start': 60,\n",
       " 'end': 65,\n",
       " 'label': 1,\n",
       " 'type': 'GPE',\n",
       " 'ent': 'Dutch',\n",
       " 'bart.large': 0.306396484375,\n",
       " 'xsum_cmlm_bos': 0.6650390625,\n",
       " 'cnndm_cmlm_cedar': 0.9306640625,\n",
       " 'bart.large.xsum': 0.4501953125,\n",
       " 'cnndm_cmlm_scratch_cedar_warmup_20000': 0.003833770751953125,\n",
       " 'xsum_cmlm_scratch_cedar_warmup_10000': 0.0004146099090576172,\n",
       " 'cnndm_cmlm_scratch_cedar_warmup_10000': 0.0019969940185546875,\n",
       " 'xsum_cmlm_scratch_cedar_warmup_20000': 0.0012483596801757812,\n",
       " 'bart.large.cnn': 0.001880645751953125,\n",
       " 'id': 416,\n",
       " 'prior': 0.9306640625,\n",
       " 'posterior': 0.6650390625}"
      ]
     },
     "execution_count": 31,
     "metadata": {},
     "output_type": "execute_result"
    }
   ],
   "source": [
    "sigma_entities[1]"
   ]
  },
  {
   "cell_type": "code",
   "execution_count": 32,
   "id": "decimal-underground",
   "metadata": {},
   "outputs": [
    {
     "data": {
      "text/plain": [
       "'The Times Educational Supplement (TES) says measures to guard against grade inflation were not appropriate for this year\\'s English exams. Teaching unions have accused Ofqual of \"regulatory failure\" and say it is more evidence of flawed exam marking. But the regulator insists it applied its measures correctly. It comes as state and private school heads call for an independent inquiry into the problems. Last week Ofqual said it felt the way this year\\'s English GCSE exams were graded was fair, despite the  grade boundaries being moved significantly part-way through the year. Teachers have complained that pupils achieving exactly the same marks would have received different grades depending on what time of year they sat the exam. And many who were predicted a grade C, obtained a grade D in their summer exams. Ofqual found that June\\'s grade boundaries were correct, while January\\'s were \"too lenient\". A key document sent to exam boards, which is on the Ofqual website, sets out how it expects exam boards to use a process known as \"comparable outcomes\" to ensure that grade standards are maintained between GCSEs year-on-year. It sets out five conditions for when such processes should be used to alter the way papers are marked. According to the TES report, this year\\'s English GCSE and the circumstances around it failed to meet four of the conditions. The first of Ofqual\\'s five conditions was that the cohort - or pupils from that year- in a subject \"must be similar, in terms of ability, to those of previous years\". But last week\\'s report on English GCSEs noted that the \"attainment profile\" for 2012 dropped, as grammar and independent school pupils were replaced with extra, lower-achieving comprehensive pupils. The second condition was that the qualification must be \"fit for purpose\". On Monday, Education Secretary Michael Gove told Parliament that this year\\'s English GCSE was \"not fit for purpose\". The third condition was that the \"nature of the qualification\" must be the same. Ofqual\\'s report last week stated that \"these qualifications are different from previous English qualifications in a number of ways\". Finally, the regulator said in the letter that comparable outcomes must only be applied where \"previous grades were appropriate\". Ofqual\\'s report said that the English GCSE grades in January were \"too generous\". The only condition that appears to have been met is that teaching standards have remained largely consistent. The guidelines also state: \"Students should not be advantaged or disadvantaged simply because they were the first to sit a new set of examinations.\" The watchdog has interpreted its own conditions differently, and is insisting that the comparable outcomes approach that prevented grades from rising in June was correctly implemented. But Russell Hobby, general secretary of the NAHT heads\\' union, said: \"Ofqual doesn\\'t seem to have applied the concept of comparable outcomes properly. \"In this instance there is a regulatory failure. It is a big mess.\" And Brian Lightman, general secretary of the Association of School and College Leaders (ASCL) said this appeared to be \"another piece of evidence that procedures applied to this exam was not fit for purpose\". Meanwhile, Ofqual said: \"The comparable outcomes approach was used correctly for GCSE English this year and we stand by this decision. \"Comparable outcomes are not intended to produce identical results year on year. \"What\\'s important is that outcomes can be compared when taking into consideration a range of factors which may affect the results. More details on the use of this approach can be found in our report.\" But Dr Christopher Ray, chairman of the Head Masters\\' and Headmistresses\\' Conference (HMC), said the issue was evidence of a deeper problem with Ofqual. \"The verdict of Ofqual\\'s initial report and the reasoning to support it fall well short of answering the questions raised in the minds of schools and pupils.\" Shadow education secretary Stephen Twigg said: \"It is clear that pupils, parents and education professionals, across the spectrum of schools, feel that pupils have been done a disservice. \"Whilst the Education Secretary Michael Gove says he is \\'saddened\\' by the injustice that has been served to thousands of pupils, he is showing how out-of-touch he is with pupil opinion by refusing to take action. Labour supports calls for an independent inquiry to get to the bottom of this mess.\" The Commons Education Committee is set to start an inquiry into the GCSE grading problems next week.'"
      ]
     },
     "execution_count": 32,
     "metadata": {},
     "output_type": "execute_result"
    }
   ],
   "source": [
    "test_source[922]"
   ]
  },
  {
   "cell_type": "markdown",
   "id": "complimentary-wagner",
   "metadata": {},
   "source": [
    "#### TF-IDF"
   ]
  },
  {
   "cell_type": "code",
   "execution_count": 33,
   "id": "recovered-motel",
   "metadata": {},
   "outputs": [],
   "source": [
    "from sklearn.feature_extraction.text import TfidfVectorizer"
   ]
  },
  {
   "cell_type": "code",
   "execution_count": 34,
   "id": "daily-program",
   "metadata": {},
   "outputs": [],
   "source": [
    "sigma_source = []\n",
    "for ent in sigma_entities:\n",
    "    sigma_source.append(test_source[ent['id']])"
   ]
  },
  {
   "cell_type": "code",
   "execution_count": 35,
   "id": "constant-package",
   "metadata": {},
   "outputs": [
    {
     "name": "stdout",
     "output_type": "stream",
     "text": [
      "13\n"
     ]
    }
   ],
   "source": [
    "print(len(sigma_source))"
   ]
  },
  {
   "cell_type": "code",
   "execution_count": 36,
   "id": "loved-collection",
   "metadata": {},
   "outputs": [
    {
     "name": "stdout",
     "output_type": "stream",
     "text": [
      "203588\n"
     ]
    }
   ],
   "source": [
    "concat_corpus = []\n",
    "concat_corpus.extend(sigma_source)\n",
    "concat_corpus.extend(train_source)\n",
    "print(len(concat_corpus))"
   ]
  },
  {
   "cell_type": "code",
   "execution_count": 37,
   "id": "complete-cemetery",
   "metadata": {},
   "outputs": [],
   "source": [
    "train_source_tfidf = TfidfVectorizer().fit_transform(concat_corpus)"
   ]
  },
  {
   "cell_type": "code",
   "execution_count": 38,
   "id": "exterior-dealer",
   "metadata": {},
   "outputs": [
    {
     "data": {
      "text/plain": [
       "(203588, 265348)"
      ]
     },
     "execution_count": 38,
     "metadata": {},
     "output_type": "execute_result"
    }
   ],
   "source": [
    "train_source_tfidf.shape"
   ]
  },
  {
   "cell_type": "markdown",
   "id": "fifteen-consideration",
   "metadata": {},
   "source": [
    "#### Calculate Similarity"
   ]
  },
  {
   "cell_type": "code",
   "execution_count": 39,
   "id": "considerable-coffee",
   "metadata": {},
   "outputs": [],
   "source": [
    "sigma_vector = train_source_tfidf[0:len(sigma_source), :]\n",
    "source_vector = train_source_tfidf[len(sigma_source):, :]"
   ]
  },
  {
   "cell_type": "code",
   "execution_count": 40,
   "id": "experimental-mayor",
   "metadata": {},
   "outputs": [
    {
     "name": "stdout",
     "output_type": "stream",
     "text": [
      "(13, 265348)\n",
      "(203575, 265348)\n"
     ]
    }
   ],
   "source": [
    "print(sigma_vector.shape)\n",
    "print(source_vector.shape)"
   ]
  },
  {
   "cell_type": "code",
   "execution_count": 41,
   "id": "cutting-uganda",
   "metadata": {},
   "outputs": [],
   "source": [
    "similarity = source_vector * sigma_vector.T"
   ]
  },
  {
   "cell_type": "markdown",
   "id": "arbitrary-february",
   "metadata": {},
   "source": [
    "#### Retrival Document"
   ]
  },
  {
   "cell_type": "code",
   "execution_count": 42,
   "id": "convertible-conversation",
   "metadata": {},
   "outputs": [],
   "source": [
    "import torch"
   ]
  },
  {
   "cell_type": "code",
   "execution_count": 43,
   "id": "tropical-bookmark",
   "metadata": {},
   "outputs": [
    {
     "name": "stdout",
     "output_type": "stream",
     "text": [
      "(203575, 13)\n"
     ]
    }
   ],
   "source": [
    "print(similarity.shape)"
   ]
  },
  {
   "cell_type": "code",
   "execution_count": 44,
   "id": "abroad-disease",
   "metadata": {},
   "outputs": [],
   "source": [
    "def count_entity(similarity_matrix, entities, k=3):\n",
    "    \"\"\"similarity_matrix: (203575, 18)\"\"\"\n",
    "    similarity_matrix = torch.tensor(similarity_matrix.toarray())\n",
    "    topk = torch.topk(similarity_matrix, k, dim=0)[1]  # [k, entity_number]: [10, 18]\n",
    "    \n",
    "    related_documents, related_summaries = [], []\n",
    "    for i in range(topk.shape[1]):\n",
    "        related_documents.append([])\n",
    "        related_summaries.append([])\n",
    "        for k in range(topk.shape[0]):\n",
    "            related_documents[i].append(train_source[topk[k][i]])\n",
    "            related_summaries[i].append(train_target[topk[k][i]])\n",
    "    \n",
    "    doc_counts, sum_counts = [], []\n",
    "    for i in range(topk.shape[1]):\n",
    "        source = ' '.join(related_documents[i])\n",
    "        target = ' '.join(related_summaries[i])\n",
    "        doc_counts.append(source.count(entities[i]['ent']))\n",
    "        sum_counts.append(target.count(entities[i]['ent']))\n",
    "    return doc_counts, sum_counts"
   ]
  },
  {
   "cell_type": "code",
   "execution_count": 45,
   "id": "vietnamese-metro",
   "metadata": {},
   "outputs": [],
   "source": [
    "doc_counts, sum_counts = count_entity(similarity, sigma_entities, k=10)"
   ]
  },
  {
   "cell_type": "code",
   "execution_count": 46,
   "id": "surprising-rough",
   "metadata": {},
   "outputs": [
    {
     "name": "stdout",
     "output_type": "stream",
     "text": [
      "13\n",
      "[2, 1, 10, 0, 0, 4, 18, 0, 0, 0, 23, 2, 11]\n"
     ]
    }
   ],
   "source": [
    "print(len(doc_counts))\n",
    "print(doc_counts[:20])"
   ]
  },
  {
   "cell_type": "code",
   "execution_count": 47,
   "id": "signed-keeping",
   "metadata": {},
   "outputs": [
    {
     "name": "stdout",
     "output_type": "stream",
     "text": [
      "13\n",
      "[9, 1, 9, 0, 4, 0, 6, 0, 0, 0, 3, 0, 5]\n"
     ]
    }
   ],
   "source": [
    "print(len(sum_counts))\n",
    "print(sum_counts[:20])"
   ]
  },
  {
   "cell_type": "code",
   "execution_count": 48,
   "id": "blond-programmer",
   "metadata": {},
   "outputs": [
    {
     "data": {
      "text/plain": [
       "5.461538461538462"
      ]
     },
     "execution_count": 48,
     "metadata": {},
     "output_type": "execute_result"
    }
   ],
   "source": [
    "sum(doc_counts) / len(doc_counts)"
   ]
  },
  {
   "cell_type": "code",
   "execution_count": 49,
   "id": "jewish-original",
   "metadata": {},
   "outputs": [
    {
     "data": {
      "text/plain": [
       "2.8461538461538463"
      ]
     },
     "execution_count": 49,
     "metadata": {},
     "output_type": "execute_result"
    }
   ],
   "source": [
    "sum(sum_counts) / len(sum_counts)"
   ]
  },
  {
   "cell_type": "code",
   "execution_count": 50,
   "id": "acting-optimum",
   "metadata": {},
   "outputs": [
    {
     "data": {
      "text/plain": [
       "0.5384615384615384"
      ]
     },
     "execution_count": 50,
     "metadata": {},
     "output_type": "execute_result"
    }
   ],
   "source": [
    "sum([s > 0 for s in sum_counts]) / len(sum_counts)"
   ]
  }
 ],
 "metadata": {
  "kernelspec": {
   "display_name": "Python 3",
   "language": "python",
   "name": "python3"
  },
  "language_info": {
   "codemirror_mode": {
    "name": "ipython",
    "version": 3
   },
   "file_extension": ".py",
   "mimetype": "text/x-python",
   "name": "python",
   "nbconvert_exporter": "python",
   "pygments_lexer": "ipython3",
   "version": "3.7.4"
  }
 },
 "nbformat": 4,
 "nbformat_minor": 5
}
