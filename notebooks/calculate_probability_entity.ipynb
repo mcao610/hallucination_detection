{
 "cells": [
  {
   "cell_type": "code",
   "execution_count": 1,
   "id": "composite-timothy",
   "metadata": {},
   "outputs": [],
   "source": [
    "import json\n",
    "import torch\n",
    "\n",
    "from fairseq.models.bart import BARTModel\n",
    "from utils import read_lines"
   ]
  },
  {
   "cell_type": "code",
   "execution_count": 2,
   "id": "promotional-floor",
   "metadata": {},
   "outputs": [],
   "source": [
    "PATH = json.load(open('../path_config.json'))"
   ]
  },
  {
   "cell_type": "code",
   "execution_count": 3,
   "id": "drawn-barbados",
   "metadata": {},
   "outputs": [],
   "source": [
    "bart = BARTModel.from_pretrained(PATH['xsum_cmlm_bos'],\n",
    "                                 checkpoint_file='checkpoint_best.pt',\n",
    "                                 data_name_or_path=PATH['data_name_or_path'])\n",
    "\n",
    "bart_ent = BARTModel.from_pretrained(PATH['xsum_cmlm_ent_bos'],\n",
    "                                     checkpoint_file='checkpoint_best.pt',\n",
    "                                     data_name_or_path=PATH['data_name_or_path'])"
   ]
  },
  {
   "cell_type": "markdown",
   "id": "thousand-transportation",
   "metadata": {},
   "source": [
    "#### Read XSum"
   ]
  },
  {
   "cell_type": "code",
   "execution_count": 4,
   "id": "intermediate-directory",
   "metadata": {},
   "outputs": [
    {
     "name": "stdout",
     "output_type": "stream",
     "text": [
      "11301\n"
     ]
    }
   ],
   "source": [
    "document_path = PATH['xsum_fariseq'] + '/test.source'\n",
    "target_path = PATH['xsum_fariseq'] + '/test.target'\n",
    "xsum_source = read_lines(document_path)\n",
    "xsum_target = read_lines(target_path)\n",
    "print(len(xsum_source))\n",
    "assert len(xsum_source) == len(xsum_target)"
   ]
  },
  {
   "cell_type": "markdown",
   "id": "irish-consent",
   "metadata": {},
   "source": [
    "#### Test One Example"
   ]
  },
  {
   "cell_type": "code",
   "execution_count": 5,
   "id": "incident-scholar",
   "metadata": {},
   "outputs": [],
   "source": [
    "from model import ConditionalSequenceGenerator\n",
    "from utils import prepare_cmlm_ent_inputs, prepare_cmlm_inputs, get_probability"
   ]
  },
  {
   "cell_type": "code",
   "execution_count": 6,
   "id": "imported-greenhouse",
   "metadata": {},
   "outputs": [],
   "source": [
    "model_ent = ConditionalSequenceGenerator(bart_ent)"
   ]
  },
  {
   "cell_type": "code",
   "execution_count": 7,
   "id": "boxed-cruise",
   "metadata": {},
   "outputs": [],
   "source": [
    "model = ConditionalSequenceGenerator(bart)"
   ]
  },
  {
   "cell_type": "markdown",
   "id": "mounted-pantyhose",
   "metadata": {},
   "source": [
    "#### Test"
   ]
  },
  {
   "cell_type": "code",
   "execution_count": 8,
   "id": "olive-security",
   "metadata": {},
   "outputs": [],
   "source": [
    "import spacy\n",
    "\n",
    "nlp = spacy.load('en_core_web_sm')"
   ]
  },
  {
   "cell_type": "code",
   "execution_count": 9,
   "id": "built-kennedy",
   "metadata": {},
   "outputs": [
    {
     "name": "stdout",
     "output_type": "stream",
     "text": [
      "200\n"
     ]
    }
   ],
   "source": [
    "data = json.load(open('../data/annotated_with_probability_200.json', 'r'))\n",
    "print(len(data))"
   ]
  },
  {
   "cell_type": "code",
   "execution_count": 17,
   "id": "interim-singapore",
   "metadata": {},
   "outputs": [
    {
     "data": {
      "text/plain": [
       "\"The first World Cup was held in India in 1950, and the country's first football team, the Indian Football Federation (IFF), won a place in the final of the inaugural tournament.\""
      ]
     },
     "execution_count": 17,
     "metadata": {},
     "output_type": "execute_result"
    }
   ],
   "source": [
    "data_index = 89\n",
    "data[data_index]['pred']"
   ]
  },
  {
   "cell_type": "code",
   "execution_count": 11,
   "id": "addressed-affiliation",
   "metadata": {},
   "outputs": [],
   "source": [
    "INDEX = data[data_index]['id']\n",
    "\n",
    "source = xsum_source[INDEX]\n",
    "target = xsum_target[INDEX]"
   ]
  },
  {
   "cell_type": "code",
   "execution_count": 12,
   "id": "prime-exercise",
   "metadata": {},
   "outputs": [],
   "source": [
    "def get_cmlm_probability_parallel(generator, src_input, tgt_input, position, entity):\n",
    "    token_probs = model.encode_decode(src_input, tgt_input=tgt_input)\n",
    "    _, target, _ = model.tokenize_target(tgt_input, left_pad=False)\n",
    "\n",
    "    probs = []\n",
    "    for p, tok, tokp, e in zip(position, target, token_probs, entity):\n",
    "        tok = [model.decode_func(i.unsqueeze(0)) for i in tok]\n",
    "        probs.append(get_probability(p, tok, tokp, e).item())\n",
    "    \n",
    "    return probs"
   ]
  },
  {
   "cell_type": "code",
   "execution_count": 13,
   "id": "interesting-mechanics",
   "metadata": {},
   "outputs": [],
   "source": [
    "def get_cmlm_ent_probability(generator, src_input, tgt_input):\n",
    "    tgt_probs = generator.encode_decode(src_input, tgt_input)\n",
    "    tgt_probs = tgt_probs[:, 3:]\n",
    "    \n",
    "    probs = torch.tensor([1.0] * tgt_probs.shape[0]).cuda()\n",
    "    for t in tgt_probs.T:\n",
    "        probs = probs * t\n",
    "    \n",
    "    return probs.tolist()"
   ]
  },
  {
   "cell_type": "code",
   "execution_count": 14,
   "id": "sporting-logistics",
   "metadata": {},
   "outputs": [
    {
     "name": "stdout",
     "output_type": "stream",
     "text": [
      "[0.83642578125, 0.8125, 0.72802734375, 0.16259765625, 0.93408203125, 0.054901123046875]\n"
     ]
    }
   ],
   "source": [
    "inputs = prepare_cmlm_inputs(source, data[data_index]['pred'], ent_parts=data[data_index]['ents'])\n",
    "print(get_cmlm_probability_parallel(model, inputs[0], inputs[1], inputs[2], inputs[3]))"
   ]
  },
  {
   "cell_type": "code",
   "execution_count": 15,
   "id": "consistent-batman",
   "metadata": {},
   "outputs": [
    {
     "name": "stdout",
     "output_type": "stream",
     "text": [
      "[0.822265625, 0.7896687984466553, 0.013885498046875, 0.211669921875, 0.10906982421875, 0.16192013025283813]\n"
     ]
    }
   ],
   "source": [
    "inputs = prepare_cmlm_ent_inputs(source, data[data_index]['pred'], data[data_index]['ents'])\n",
    "print(get_cmlm_ent_probability(model_ent, inputs[0], inputs[1]))"
   ]
  },
  {
   "cell_type": "code",
   "execution_count": 16,
   "id": "differential-recording",
   "metadata": {},
   "outputs": [
    {
     "name": "stdout",
     "output_type": "stream",
     "text": [
      "first, World Cup, India, 1950, first, the Indian Football Federation, \n",
      "0.83642578125, 0.81201171875, 0.72705078125, 0.1617431640625, 0.93408203125, 0.054931640625, "
     ]
    }
   ],
   "source": [
    "for e in data[data_index]['ents']:\n",
    "    print(e['ent'], end=', ')\n",
    "\n",
    "print()\n",
    "for e in data[data_index]['ents']:\n",
    "    print(e['xsum_cmlm_bos'], end=', ')"
   ]
  }
 ],
 "metadata": {
  "kernelspec": {
   "display_name": "Python 3",
   "language": "python",
   "name": "python3"
  },
  "language_info": {
   "codemirror_mode": {
    "name": "ipython",
    "version": 3
   },
   "file_extension": ".py",
   "mimetype": "text/x-python",
   "name": "python",
   "nbconvert_exporter": "python",
   "pygments_lexer": "ipython3",
   "version": "3.7.4"
  }
 },
 "nbformat": 4,
 "nbformat_minor": 5
}
