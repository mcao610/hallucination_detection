{
 "cells": [
  {
   "cell_type": "code",
   "execution_count": 1,
   "id": "improved-adjustment",
   "metadata": {},
   "outputs": [],
   "source": [
    "import json"
   ]
  },
  {
   "cell_type": "markdown",
   "id": "manufactured-snake",
   "metadata": {},
   "source": [
    "#### Read Original Google Dataset"
   ]
  },
  {
   "cell_type": "code",
   "execution_count": 2,
   "id": "matched-ozone",
   "metadata": {},
   "outputs": [],
   "source": [
    "factuality_data = json.load(open('../data/xsum_hallucination_annotations/factuality_annotations_xsum_summaries.json'))\n",
    "hallucination_data = json.load(open('../data/xsum_hallucination_annotations/hallucination_annotations_xsum_summaries.json'))"
   ]
  },
  {
   "cell_type": "code",
   "execution_count": 3,
   "id": "junior-hydrogen",
   "metadata": {},
   "outputs": [
    {
     "name": "stdout",
     "output_type": "stream",
     "text": [
      "5597\n",
      "11185\n"
     ]
    }
   ],
   "source": [
    "print(len(factuality_data))\n",
    "print(len(hallucination_data))"
   ]
  },
  {
   "cell_type": "code",
   "execution_count": 4,
   "id": "green-compound",
   "metadata": {},
   "outputs": [
    {
     "data": {
      "text/plain": [
       "{'BERTS2S', 'PtGen', 'TConvS2S', 'TranS2S'}"
      ]
     },
     "execution_count": 4,
     "metadata": {},
     "output_type": "execute_result"
    }
   ],
   "source": [
    "set([f['system'] for f in factuality_data])"
   ]
  },
  {
   "cell_type": "code",
   "execution_count": 5,
   "id": "awful-dayton",
   "metadata": {},
   "outputs": [
    {
     "data": {
      "text/plain": [
       "{'bbcid': 34687720,\n",
       " 'system': 'BERTS2S',\n",
       " 'summary': 'rory mcilroy will take a one-shot lead into the final round of the wgc-hsbc champions after carding a three-under',\n",
       " 'hallucination_type': 'extrinsic',\n",
       " 'hallucinated_span': 'rory mcilroy will take a one-shot lead into the final round of the wgc-hsbc champions after carding a three-under',\n",
       " 'worker_id': 'wid_0'}"
      ]
     },
     "execution_count": 5,
     "metadata": {},
     "output_type": "execute_result"
    }
   ],
   "source": [
    "hallucination_data[0]"
   ]
  },
  {
   "cell_type": "markdown",
   "id": "detected-content",
   "metadata": {},
   "source": [
    "#### Read Calculated Probability"
   ]
  },
  {
   "cell_type": "code",
   "execution_count": 6,
   "id": "clean-patent",
   "metadata": {},
   "outputs": [],
   "source": [
    "google_data_with_proba = json.load(open('../data/Maynez_entity_data_with_prob.json', 'r'))"
   ]
  },
  {
   "cell_type": "code",
   "execution_count": 7,
   "id": "unnecessary-albany",
   "metadata": {},
   "outputs": [
    {
     "name": "stdout",
     "output_type": "stream",
     "text": [
      "500\n"
     ]
    }
   ],
   "source": [
    "print(len(google_data_with_proba))"
   ]
  },
  {
   "cell_type": "code",
   "execution_count": 8,
   "id": "north-product",
   "metadata": {},
   "outputs": [],
   "source": [
    "for bbcid in google_data_with_proba:\n",
    "    for system in google_data_with_proba[bbcid]:\n",
    "        for e in google_data_with_proba[bbcid][system]['ents']:\n",
    "            if 'cnndm_cmlm_cedar' in e and 'xsum_cmlm_bos' in e:\n",
    "                e['prior'] = e['bart.large']\n",
    "                e['posterior'] = e['xsum_cmlm_bos']\n",
    "            else:\n",
    "                e['prior'] = None\n",
    "                e['posterior'] = None"
   ]
  },
  {
   "cell_type": "code",
   "execution_count": 9,
   "id": "demographic-maker",
   "metadata": {},
   "outputs": [
    {
     "data": {
      "text/plain": [
       "{'summary': 'rory mcilroy moved to within a shot of joint leaders victor dubuisson and jaco van zyl after the third round of the turkish airlines open.',\n",
       " 'summary_upper': 'Rory McIlroy moved to within a shot of joint leaders Victor Dubuisson and Jaco van Zyl after the third round of the Turkish Airlines open .',\n",
       " 'ents': [{'start': 0,\n",
       "   'end': 4,\n",
       "   'label': -1,\n",
       "   'type': 'PERSON',\n",
       "   'ent': 'Rory',\n",
       "   'bart.large': 0.380859375,\n",
       "   'xsum_cmlm_bos': 0.93017578125,\n",
       "   'cnndm_cmlm_cedar': 0.180908203125,\n",
       "   'bart.large.xsum': 0.65087890625,\n",
       "   'prior': 0.380859375,\n",
       "   'posterior': 0.93017578125},\n",
       "  {'start': 5,\n",
       "   'end': 12,\n",
       "   'label': -1,\n",
       "   'type': 'PERSON',\n",
       "   'ent': 'McIlroy',\n",
       "   'bart.large': 0.9189453125,\n",
       "   'xsum_cmlm_bos': 0.78173828125,\n",
       "   'cnndm_cmlm_cedar': 0.81103515625,\n",
       "   'bart.large.xsum': 0.806640625,\n",
       "   'prior': 0.9189453125,\n",
       "   'posterior': 0.78173828125},\n",
       "  {'start': 53,\n",
       "   'end': 59,\n",
       "   'label': -1,\n",
       "   'type': 'PERSON',\n",
       "   'ent': 'Victor',\n",
       "   'bart.large': 0.0023136138916015625,\n",
       "   'xsum_cmlm_bos': 0.000522613525390625,\n",
       "   'cnndm_cmlm_cedar': 0.0006346702575683594,\n",
       "   'bart.large.xsum': 0.00011754035949707031,\n",
       "   'prior': 0.0023136138916015625,\n",
       "   'posterior': 0.000522613525390625},\n",
       "  {'start': 60,\n",
       "   'end': 69,\n",
       "   'label': -1,\n",
       "   'type': 'PERSON',\n",
       "   'ent': 'Dubuisson',\n",
       "   'bart.large': 0.97119140625,\n",
       "   'xsum_cmlm_bos': 0.82958984375,\n",
       "   'cnndm_cmlm_cedar': 0.73779296875,\n",
       "   'bart.large.xsum': 0.78466796875,\n",
       "   'prior': 0.97119140625,\n",
       "   'posterior': 0.82958984375},\n",
       "  {'start': 74,\n",
       "   'end': 78,\n",
       "   'label': -1,\n",
       "   'type': 'PERSON',\n",
       "   'ent': 'Jaco',\n",
       "   'bart.large': 0.048187255859375,\n",
       "   'xsum_cmlm_bos': 0.0057220458984375,\n",
       "   'cnndm_cmlm_cedar': 0.00045418739318847656,\n",
       "   'bart.large.xsum': 0.564453125,\n",
       "   'prior': 0.048187255859375,\n",
       "   'posterior': 0.0057220458984375},\n",
       "  {'start': 79,\n",
       "   'end': 82,\n",
       "   'label': -1,\n",
       "   'type': 'PERSON',\n",
       "   'ent': 'van',\n",
       "   'bart.large': 0.53369140625,\n",
       "   'xsum_cmlm_bos': 0.46484375,\n",
       "   'cnndm_cmlm_cedar': 0.0237579345703125,\n",
       "   'bart.large.xsum': 0.86083984375,\n",
       "   'prior': 0.53369140625,\n",
       "   'posterior': 0.46484375},\n",
       "  {'start': 83,\n",
       "   'end': 86,\n",
       "   'label': -1,\n",
       "   'type': 'PERSON',\n",
       "   'ent': 'Zyl',\n",
       "   'bart.large': 0.75,\n",
       "   'xsum_cmlm_bos': 0.90576171875,\n",
       "   'cnndm_cmlm_cedar': 0.763671875,\n",
       "   'bart.large.xsum': 0.89599609375,\n",
       "   'prior': 0.75,\n",
       "   'posterior': 0.90576171875},\n",
       "  {'start': 97,\n",
       "   'end': 102,\n",
       "   'label': -1,\n",
       "   'type': 'ORDINAL',\n",
       "   'ent': 'third',\n",
       "   'bart.large': 0.107666015625,\n",
       "   'xsum_cmlm_bos': 0.1309814453125,\n",
       "   'cnndm_cmlm_cedar': 0.12890625,\n",
       "   'bart.large.xsum': 0.257080078125,\n",
       "   'prior': 0.107666015625,\n",
       "   'posterior': 0.1309814453125},\n",
       "  {'start': 116,\n",
       "   'end': 132,\n",
       "   'label': -1,\n",
       "   'type': 'ORG',\n",
       "   'ent': 'Turkish Airlines',\n",
       "   'bart.large': 0.0064544677734375,\n",
       "   'xsum_cmlm_bos': 1.5437602996826172e-05,\n",
       "   'cnndm_cmlm_cedar': 1.0132789611816406e-06,\n",
       "   'bart.large.xsum': 0.0006804466247558594,\n",
       "   'prior': 0.0064544677734375,\n",
       "   'posterior': 1.5437602996826172e-05}]}"
      ]
     },
     "execution_count": 9,
     "metadata": {},
     "output_type": "execute_result"
    }
   ],
   "source": [
    "google_data_with_proba['34687720']['Gold']"
   ]
  },
  {
   "cell_type": "markdown",
   "id": "scheduled-reading",
   "metadata": {},
   "source": [
    "#### Claculate Factuality Correlation"
   ]
  },
  {
   "cell_type": "code",
   "execution_count": 10,
   "id": "severe-incidence",
   "metadata": {},
   "outputs": [
    {
     "data": {
      "text/plain": [
       "{'bbcid': 29911712,\n",
       " 'system': 'BERTS2S',\n",
       " 'summary': 'more than 50 pupils at a bristol academy have been sent home from school because of a lack of uniform.',\n",
       " 'is_factual': 'no',\n",
       " 'worker_id': 'wid_1'}"
      ]
     },
     "execution_count": 10,
     "metadata": {},
     "output_type": "execute_result"
    }
   ],
   "source": [
    "factuality_data[1]"
   ]
  },
  {
   "cell_type": "code",
   "execution_count": 11,
   "id": "technical-highlight",
   "metadata": {},
   "outputs": [],
   "source": [
    "factuality = {}\n",
    "for i, f in enumerate(factuality_data):\n",
    "    if f['bbcid'] not in factuality:\n",
    "        factuality[f['bbcid']] = {}\n",
    "    if f['system'] not in factuality[f['bbcid']]:\n",
    "        factuality[f['bbcid']][f['system']] = []\n",
    "        \n",
    "    if f['is_factual'] == 'yes':\n",
    "        factuality[f['bbcid']][f['system']].append(True)\n",
    "    elif f['is_factual'] == 'no':\n",
    "        factuality[f['bbcid']][f['system']].append(False)\n",
    "    elif f['is_factual'] is None:\n",
    "        factuality[f['bbcid']][f['system']].append(False)\n",
    "    else:\n",
    "        print(i)\n",
    "        raise Exception('Unkown Label: {}'.format(f['is_factual']))"
   ]
  },
  {
   "cell_type": "code",
   "execution_count": 12,
   "id": "practical-description",
   "metadata": {},
   "outputs": [],
   "source": [
    "hallucination = {}\n",
    "for h in hallucination_data:\n",
    "    if h['bbcid'] not in hallucination:\n",
    "        hallucination[h['bbcid']] = {}\n",
    "    if h['system'] not in hallucination[h['bbcid']]:\n",
    "        hallucination[h['bbcid']][h['system']] = []\n",
    "    \n",
    "    if h['hallucination_type'] == 'extrinsic' and len(h['hallucinated_span']) < len(h['summary']):\n",
    "        hallucination[h['bbcid']][h['system']].append(h['hallucinated_span'])"
   ]
  },
  {
   "cell_type": "code",
   "execution_count": 13,
   "id": "center-theme",
   "metadata": {},
   "outputs": [
    {
     "data": {
      "text/plain": [
       "['the final round of the wgc-hsbc champions']"
      ]
     },
     "execution_count": 13,
     "metadata": {},
     "output_type": "execute_result"
    }
   ],
   "source": [
    "hallucination[34687720]['BERTS2S']"
   ]
  },
  {
   "cell_type": "code",
   "execution_count": 14,
   "id": "living-mixer",
   "metadata": {},
   "outputs": [],
   "source": [
    "# entity in hallucination span (extrinsic), and summary false: false-hallucination\n",
    "# entity in hallucination span (extrinsic), and summary true: true-hallucnination\n",
    "# entity not in hallucination span and summary true: non-hallucination"
   ]
  },
  {
   "cell_type": "markdown",
   "id": "developed-vacuum",
   "metadata": {},
   "source": [
    "#### Evaluating"
   ]
  },
  {
   "cell_type": "code",
   "execution_count": 15,
   "id": "fantastic-alarm",
   "metadata": {},
   "outputs": [],
   "source": [
    "from utils import read_document"
   ]
  },
  {
   "cell_type": "code",
   "execution_count": 16,
   "id": "mysterious-andorra",
   "metadata": {},
   "outputs": [],
   "source": [
    "def check_factual(scores):\n",
    "    if None in scores: return False\n",
    "#     if len(scores) == sum(scores):\n",
    "#         return True\n",
    "#     else:\n",
    "#         return False\n",
    "\n",
    "    if sum(scores) * 2 >= len(scores):\n",
    "        return True\n",
    "    else:\n",
    "        return False"
   ]
  },
  {
   "cell_type": "code",
   "execution_count": 17,
   "id": "postal-darkness",
   "metadata": {},
   "outputs": [],
   "source": [
    "def check_hallucinated(entity, spans):\n",
    "    for s in spans:\n",
    "        if entity in s:\n",
    "            return True\n",
    "    return False"
   ]
  },
  {
   "cell_type": "code",
   "execution_count": 18,
   "id": "positive-constraint",
   "metadata": {},
   "outputs": [],
   "source": [
    "factual_label, hallucination_label, posterior_label = [], [], []\n",
    "prior_probs, posterior_probs = [], []\n",
    "overlap_preds, threshold_preds = [], []\n",
    "true_label = []\n",
    "\n",
    "for bbcid in google_data_with_proba:\n",
    "    for system in google_data_with_proba[bbcid]:\n",
    "        if int(bbcid) not in factuality or system not in factuality[int(bbcid)]: continue\n",
    "        if system in ['PtGen', 'TConvS2S']: continue\n",
    "    \n",
    "        for e in google_data_with_proba[bbcid][system]['ents']:\n",
    "            if 'posterior' not in e or e['posterior'] is None: continue\n",
    "            \n",
    "            is_factual = check_factual(factuality[int(bbcid)][system])\n",
    "            is_hallucinated = check_hallucinated(e['ent'], hallucination[int(bbcid)][system])\n",
    "            \n",
    "            document = read_document(int(bbcid), '/home/mcao610/scratch/summarization/XSum/xsum-preprocessed/document/')\n",
    "            is_entity_in_document = e['ent'].lower() in document.lower()\n",
    "\n",
    "            if is_factual and is_hallucinated:\n",
    "                factual_label.append(1)\n",
    "                hallucination_label.append(1)\n",
    "                true_label.append(1)\n",
    "            elif is_factual and not is_hallucinated:\n",
    "                factual_label.append(1)\n",
    "                hallucination_label.append(0)\n",
    "                true_label.append(0)\n",
    "            elif (not is_factual) and is_hallucinated:\n",
    "                if is_entity_in_document:\n",
    "                    factual_label.append(1)\n",
    "                else:\n",
    "                    factual_label.append(0)\n",
    "                hallucination_label.append(1)\n",
    "                true_label.append(2)\n",
    "            elif (not is_factual) and (not is_hallucinated):\n",
    "                factual_label.append(1)\n",
    "                hallucination_label.append(0)\n",
    "                true_label.append(0)\n",
    "            else:\n",
    "                continue\n",
    "            \n",
    "            prior_probs.append(e['prior'])\n",
    "            posterior_probs.append(e['posterior'])\n",
    "            \n",
    "            if e['posterior'] > e['prior']:\n",
    "                posterior_label.append(1)\n",
    "            else:\n",
    "                posterior_label.append(0)\n",
    "                \n",
    "            if is_entity_in_document:\n",
    "                overlap_preds.append(1)\n",
    "            else:\n",
    "                overlap_preds.append(0)\n",
    "                \n",
    "            if e['posterior'] > 0.4:\n",
    "                threshold_preds.append(1)\n",
    "            else:\n",
    "                threshold_preds.append(0)"
   ]
  },
  {
   "cell_type": "code",
   "execution_count": 19,
   "id": "american-copyright",
   "metadata": {},
   "outputs": [
    {
     "name": "stdout",
     "output_type": "stream",
     "text": [
      "2700\n"
     ]
    }
   ],
   "source": [
    "print(len(factual_label))\n",
    "assert len(factual_label) == len(posterior_label)"
   ]
  },
  {
   "cell_type": "markdown",
   "id": "independent-arlington",
   "metadata": {},
   "source": [
    "#### Draw Diagram"
   ]
  },
  {
   "cell_type": "code",
   "execution_count": 20,
   "id": "heavy-devon",
   "metadata": {},
   "outputs": [],
   "source": [
    "%matplotlib inline\n",
    "\n",
    "from draw import plot_scatter"
   ]
  },
  {
   "cell_type": "code",
   "execution_count": 21,
   "id": "defined-clothing",
   "metadata": {},
   "outputs": [],
   "source": [
    "prior_posterior = []\n",
    "for pos, pri, f, h in zip(posterior_probs, prior_probs, factual_label, hallucination_label):\n",
    "    my_label = -1\n",
    "    if f == 1 and h == 1:\n",
    "        my_label = 1\n",
    "    elif f == 0 and h == 1:\n",
    "        my_label = 2\n",
    "    elif f == 1 and h == 0:\n",
    "        my_label = 0\n",
    "    assert my_label != -1\n",
    "    prior_posterior.append({'prior': pri, 'posterior': pos, 'label': my_label})"
   ]
  },
  {
   "cell_type": "code",
   "execution_count": 22,
   "id": "medical-repository",
   "metadata": {},
   "outputs": [
    {
     "data": {
      "image/png": "[encoded data removed]",
      "text/plain": [
       "<Figure size 648x504 with 1 Axes>"
      ]
     },
     "metadata": {
      "needs_background": "light"
     },
     "output_type": "display_data"
    }
   ],
   "source": [
    "input_data = [\n",
    "    [(p['prior'], p['posterior']) for p in prior_posterior if p['label'] == 0],\n",
    "    [(p['prior'], p['posterior']) for p in prior_posterior if p['label'] == 1],\n",
    "    [(p['prior'], p['posterior']) for p in prior_posterior if p['label'] == 2]\n",
    "]\n",
    "labels = ['Non-hallucination', 'Hallucination True', 'Hallucination False']\n",
    "plot_scatter(input_data, labels)"
   ]
  },
  {
   "cell_type": "markdown",
   "id": "chronic-queue",
   "metadata": {},
   "source": [
    "#### Overlap Baseline"
   ]
  },
  {
   "cell_type": "code",
   "execution_count": 23,
   "id": "synthetic-compromise",
   "metadata": {},
   "outputs": [],
   "source": [
    "from sklearn.metrics import classification_report"
   ]
  },
  {
   "cell_type": "code",
   "execution_count": 24,
   "id": "blocked-temperature",
   "metadata": {},
   "outputs": [
    {
     "name": "stdout",
     "output_type": "stream",
     "text": [
      "              precision    recall  f1-score   support\n",
      "\n",
      " Non-factual     0.1183    0.8907    0.2088       183\n",
      "     Factual     0.9849    0.5173    0.6783      2517\n",
      "\n",
      "    accuracy                         0.5426      2700\n",
      "   macro avg     0.5516    0.7040    0.4436      2700\n",
      "weighted avg     0.9261    0.5426    0.6465      2700\n",
      "\n"
     ]
    }
   ],
   "source": [
    "print(classification_report(factual_label, threshold_preds, target_names=['Non-factual', 'Factual'], digits=4))"
   ]
  },
  {
   "cell_type": "code",
   "execution_count": 25,
   "id": "visible-sigma",
   "metadata": {},
   "outputs": [
    {
     "name": "stdout",
     "output_type": "stream",
     "text": [
      "              precision    recall  f1-score   support\n",
      "\n",
      " Non-factual     0.1758    1.0000    0.2990       183\n",
      "     Factual     1.0000    0.6591    0.7945      2517\n",
      "\n",
      "    accuracy                         0.6822      2700\n",
      "   macro avg     0.5879    0.8296    0.5468      2700\n",
      "weighted avg     0.9441    0.6822    0.7610      2700\n",
      "\n"
     ]
    }
   ],
   "source": [
    "print(classification_report(factual_label, overlap_preds, target_names=['Non-factual', 'Factual'], digits=4))"
   ]
  },
  {
   "cell_type": "code",
   "execution_count": 26,
   "id": "entertaining-hammer",
   "metadata": {},
   "outputs": [
    {
     "name": "stdout",
     "output_type": "stream",
     "text": [
      "              precision    recall  f1-score   support\n",
      "\n",
      " Non-factual     0.1902    0.6326    0.2925       313\n",
      "     Factual     0.9307    0.6468    0.7632      2387\n",
      "\n",
      "    accuracy                         0.6452      2700\n",
      "   macro avg     0.5604    0.6397    0.5278      2700\n",
      "weighted avg     0.8448    0.6452    0.7087      2700\n",
      "\n"
     ]
    }
   ],
   "source": [
    "print(classification_report([1 if i == 0 else 0 for i in hallucination_label], overlap_preds, target_names=['Non-factual', 'Factual'], digits=4))"
   ]
  },
  {
   "cell_type": "markdown",
   "id": "fancy-growing",
   "metadata": {},
   "source": [
    "#### LM-based Baseline"
   ]
  },
  {
   "cell_type": "code",
   "execution_count": 27,
   "id": "international-connection",
   "metadata": {},
   "outputs": [
    {
     "name": "stdout",
     "output_type": "stream",
     "text": [
      "              precision    recall  f1-score   support\n",
      "\n",
      " Non-factual     0.0983    0.4645    0.1622       183\n",
      "     Factual     0.9466    0.6901    0.7983      2517\n",
      "\n",
      "    accuracy                         0.6748      2700\n",
      "   macro avg     0.5224    0.5773    0.4802      2700\n",
      "weighted avg     0.8891    0.6748    0.7551      2700\n",
      "\n"
     ]
    }
   ],
   "source": [
    "print(classification_report(factual_label, posterior_label, target_names=['Non-factual', 'Factual'], digits=4))"
   ]
  },
  {
   "cell_type": "code",
   "execution_count": 28,
   "id": "liquid-tyler",
   "metadata": {},
   "outputs": [
    {
     "name": "stdout",
     "output_type": "stream",
     "text": [
      "              precision    recall  f1-score   support\n",
      "\n",
      " Non-factual     0.1445    0.3994    0.2122       313\n",
      "     Factual     0.8975    0.6900    0.7802      2387\n",
      "\n",
      "    accuracy                         0.6563      2700\n",
      "   macro avg     0.5210    0.5447    0.4962      2700\n",
      "weighted avg     0.8103    0.6563    0.7144      2700\n",
      "\n"
     ]
    }
   ],
   "source": [
    "print(classification_report([1 if i == 0 else 0 for i in hallucination_label], posterior_label, target_names=['Non-factual', 'Factual'], digits=4))"
   ]
  },
  {
   "cell_type": "markdown",
   "id": "velvet-exhaust",
   "metadata": {},
   "source": [
    "#### Load KNN Model"
   ]
  },
  {
   "cell_type": "code",
   "execution_count": 29,
   "id": "familiar-shanghai",
   "metadata": {},
   "outputs": [],
   "source": [
    "import numpy as np\n",
    "import pickle"
   ]
  },
  {
   "cell_type": "code",
   "execution_count": 30,
   "id": "bronze-mission",
   "metadata": {},
   "outputs": [],
   "source": [
    "def predict(knn_model, priors, posteriors, overlaps=None):\n",
    "    priors, posteriors = np.array(priors), np.array(posteriors)\n",
    "\n",
    "    if overlaps is not None:\n",
    "        overlaps = np.array(overlaps)\n",
    "        x_mat = np.vstack([priors, posteriors, overlaps]).transpose()\n",
    "\n",
    "        stds = [np.std(x_mat[:, 0]), np.std(x_mat[:, 1]), np.std(x_mat[:, 2])]\n",
    "        x_mat = np.vstack([x_mat[:, 0]/stds[0],  x_mat[:, 1]/stds[1], x_mat[:, 2]/stds[2]])\n",
    "    else:\n",
    "        x_mat = np.vstack([priors, posteriors]).transpose()\n",
    "\n",
    "        stds = [np.std(x_mat[:, 0]), np.std(x_mat[:, 1])]\n",
    "        x_mat = np.vstack([x_mat[:, 0]/stds[0],  x_mat[:, 1]/stds[1]]).transpose()\n",
    "    \n",
    "    return knn_model.predict(x_mat.transpose())"
   ]
  },
  {
   "cell_type": "code",
   "execution_count": 31,
   "id": "illegal-disease",
   "metadata": {},
   "outputs": [
    {
     "data": {
      "text/plain": [
       "2700"
      ]
     },
     "execution_count": 31,
     "metadata": {},
     "output_type": "execute_result"
    }
   ],
   "source": [
    "len(overlap_preds)"
   ]
  },
  {
   "cell_type": "code",
   "execution_count": 39,
   "id": "stupid-christian",
   "metadata": {},
   "outputs": [],
   "source": [
    "# load the model from disk\n",
    "classifier = pickle.load(open('classifiers/knn_classifier_trained.pkl', 'rb'))"
   ]
  },
  {
   "cell_type": "code",
   "execution_count": 40,
   "id": "sticky-therapy",
   "metadata": {},
   "outputs": [
    {
     "name": "stdout",
     "output_type": "stream",
     "text": [
      "(2700,)\n"
     ]
    }
   ],
   "source": [
    "prediction = predict(classifier, prior_probs, posterior_probs, overlaps=overlap_preds)\n",
    "print(prediction.shape)"
   ]
  },
  {
   "cell_type": "code",
   "execution_count": 41,
   "id": "protecting-train",
   "metadata": {},
   "outputs": [
    {
     "name": "stdout",
     "output_type": "stream",
     "text": [
      "              precision    recall  f1-score   support\n",
      "\n",
      " Non-factual     0.2170    0.8361    0.3446       183\n",
      "     Factual     0.9850    0.7807    0.8710      2517\n",
      "\n",
      "    accuracy                         0.7844      2700\n",
      "   macro avg     0.6010    0.8084    0.6078      2700\n",
      "weighted avg     0.9329    0.7844    0.8353      2700\n",
      "\n"
     ]
    }
   ],
   "source": [
    "print(classification_report(factual_label, prediction, target_names=['Non-factual', 'Factual'], digits=4))"
   ]
  },
  {
   "cell_type": "code",
   "execution_count": 42,
   "id": "extended-georgia",
   "metadata": {},
   "outputs": [
    {
     "name": "stdout",
     "output_type": "stream",
     "text": [
      "                   precision    recall  f1-score   support\n",
      "\n",
      "Non-hallutionated     0.2241    0.5048    0.3104       313\n",
      "    Hallutionated     0.9223    0.7708    0.8398      2387\n",
      "\n",
      "         accuracy                         0.7400      2700\n",
      "        macro avg     0.5732    0.6378    0.5751      2700\n",
      "     weighted avg     0.8414    0.7400    0.7784      2700\n",
      "\n"
     ]
    }
   ],
   "source": [
    "print(classification_report([1 if i == 0 else 0 for i in hallucination_label], prediction, target_names=['Non-hallutionated', 'Hallutionated'], digits=4))"
   ]
  },
  {
   "cell_type": "code",
   "execution_count": 36,
   "id": "stock-plate",
   "metadata": {},
   "outputs": [],
   "source": [
    "# LM + KNN:\n",
    "#                    precision    recall  f1-score   support\n",
    "\n",
    "# Non-hallutionated     0.1417    0.3926    0.2083       135\n",
    "#     Hallutionated     0.9123    0.7266    0.8089      1174\n",
    "\n",
    "#          accuracy                         0.6921      1309\n",
    "#         macro avg     0.5270    0.5596    0.5086      1309\n",
    "#      weighted avg     0.8328    0.6921    0.7470      1309\n",
    "\n",
    "# Main model (n=5):\n",
    "#                    precision    recall  f1-score   support\n",
    "\n",
    "# Non-hallutionated     0.1545    0.3778    0.2194       135\n",
    "#     Hallutionated     0.9142    0.7624    0.8314      1174\n",
    "\n",
    "#          accuracy                         0.7227      1309\n",
    "#         macro avg     0.5344    0.5701    0.5254      1309\n",
    "#      weighted avg     0.8359    0.7227    0.7683      1309\n",
    "\n",
    "# Main Model three features:\n",
    "#                    precision    recall  f1-score   support\n",
    "\n",
    "# Non-hallutionated     0.1776    0.4000    0.2460       135\n",
    "#     Hallutionated     0.9194    0.7871    0.8481      1174\n",
    "\n",
    "#          accuracy                         0.7471      1309\n",
    "#         macro avg     0.5485    0.5935    0.5471      1309\n",
    "#      weighted avg     0.8429    0.7471    0.7860      1309"
   ]
  },
  {
   "cell_type": "code",
   "execution_count": 37,
   "id": "republican-venezuela",
   "metadata": {},
   "outputs": [
    {
     "name": "stdout",
     "output_type": "stream",
     "text": [
      "              precision    recall  f1-score   support\n",
      "\n",
      " Non-factual     0.2126    0.8470    0.3399       183\n",
      "     Factual     0.9858    0.7720    0.8659      2517\n",
      "\n",
      "    accuracy                         0.7770      2700\n",
      "   macro avg     0.5992    0.8095    0.6029      2700\n",
      "weighted avg     0.9334    0.7770    0.8302      2700\n",
      "\n"
     ]
    }
   ],
   "source": [
    "print(classification_report(factual_label, prediction, target_names=['Non-factual', 'Factual'], digits=4))"
   ]
  },
  {
   "cell_type": "code",
   "execution_count": 38,
   "id": "studied-workstation",
   "metadata": {},
   "outputs": [],
   "source": [
    "# LM + KNN (n=4)\n",
    "#               precision    recall  f1-score   support\n",
    "\n",
    "#  Non-factual     0.1389    0.3200    0.1937       125\n",
    "#      Factual     0.9167    0.7905    0.8490      1184\n",
    "\n",
    "#     accuracy                         0.7456      1309\n",
    "#    macro avg     0.5278    0.5553    0.5213      1309\n",
    "# weighted avg     0.8425    0.7456    0.7864      1309\n",
    "\n",
    "# Main Model (n=4)\n",
    "#               precision    recall  f1-score   support\n",
    "\n",
    "#  Non-factual     0.1373    0.2240    0.1702       125\n",
    "#      Factual     0.9122    0.8514    0.8807      1184\n",
    "\n",
    "#     accuracy                         0.7914      1309\n",
    "#    macro avg     0.5247    0.5377    0.5255      1309\n",
    "# weighted avg     0.8382    0.7914    0.8129      1309\n",
    "\n",
    "# Main Model three features:\n",
    "#               precision    recall  f1-score   support\n",
    "\n",
    "#  Non-factual     0.1678    0.4080    0.2378       125\n",
    "#      Factual     0.9264    0.7863    0.8506      1184\n",
    "\n",
    "#     accuracy                         0.7502      1309\n",
    "#    macro avg     0.5471    0.5972    0.5442      1309\n",
    "# weighted avg     0.8539    0.7502    0.7921      1309"
   ]
  },
  {
   "cell_type": "code",
   "execution_count": null,
   "id": "friendly-frost",
   "metadata": {},
   "outputs": [],
   "source": []
  }
 ],
 "metadata": {
  "kernelspec": {
   "display_name": "Python 3",
   "language": "python",
   "name": "python3"
  },
  "language_info": {
   "codemirror_mode": {
    "name": "ipython",
    "version": 3
   },
   "file_extension": ".py",
   "mimetype": "text/x-python",
   "name": "python",
   "nbconvert_exporter": "python",
   "pygments_lexer": "ipython3",
   "version": "3.7.4"
  }
 },
 "nbformat": 4,
 "nbformat_minor": 5
}
