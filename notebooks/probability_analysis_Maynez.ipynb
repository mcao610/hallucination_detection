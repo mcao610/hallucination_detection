{
 "cells": [
  {
   "cell_type": "code",
   "execution_count": 1,
   "id": "yellow-chair",
   "metadata": {},
   "outputs": [],
   "source": [
    "import json"
   ]
  },
  {
   "cell_type": "markdown",
   "id": "bizarre-april",
   "metadata": {},
   "source": [
    "#### Read Original Google Dataset"
   ]
  },
  {
   "cell_type": "code",
   "execution_count": 2,
   "id": "weekly-seminar",
   "metadata": {},
   "outputs": [],
   "source": [
    "factuality_data = json.load(open('../data/xsum_hallucination_annotations/factuality_annotations_xsum_summaries.json'))\n",
    "hallucination_data = json.load(open('../data/xsum_hallucination_annotations/hallucination_annotations_xsum_summaries.json'))"
   ]
  },
  {
   "cell_type": "code",
   "execution_count": 3,
   "id": "adequate-exhaust",
   "metadata": {},
   "outputs": [
    {
     "name": "stdout",
     "output_type": "stream",
     "text": [
      "5597\n",
      "11185\n"
     ]
    }
   ],
   "source": [
    "print(len(factuality_data))\n",
    "print(len(hallucination_data))"
   ]
  },
  {
   "cell_type": "code",
   "execution_count": 4,
   "id": "decimal-patrick",
   "metadata": {},
   "outputs": [
    {
     "data": {
      "text/plain": [
       "{'bbcid': 33517280,\n",
       " 'system': 'TranS2S',\n",
       " 'summary': 'five men have been charged after a protest at heathrow airport led to the closure of a runway at heathrow airport.',\n",
       " 'is_factual': 'no',\n",
       " 'worker_id': 'wid_1'}"
      ]
     },
     "execution_count": 4,
     "metadata": {},
     "output_type": "execute_result"
    }
   ],
   "source": [
    "factuality_data[2330]"
   ]
  },
  {
   "cell_type": "code",
   "execution_count": 5,
   "id": "accessory-italic",
   "metadata": {},
   "outputs": [
    {
     "data": {
      "text/plain": [
       "{'bbcid': 34687720,\n",
       " 'system': 'BERTS2S',\n",
       " 'summary': 'rory mcilroy will take a one-shot lead into the final round of the wgc-hsbc champions after carding a three-under',\n",
       " 'hallucination_type': 'extrinsic',\n",
       " 'hallucinated_span': 'rory mcilroy will take a one-shot lead into the final round of the wgc-hsbc champions after carding a three-under',\n",
       " 'worker_id': 'wid_0'}"
      ]
     },
     "execution_count": 5,
     "metadata": {},
     "output_type": "execute_result"
    }
   ],
   "source": [
    "hallucination_data[0]"
   ]
  },
  {
   "cell_type": "markdown",
   "id": "specialized-lighter",
   "metadata": {},
   "source": [
    "#### Read Calculated Probability"
   ]
  },
  {
   "cell_type": "code",
   "execution_count": 6,
   "id": "applicable-qualification",
   "metadata": {},
   "outputs": [],
   "source": [
    "google_data_with_proba = json.load(open('../data/Maynez_entity_data_with_prob.json', 'r'))"
   ]
  },
  {
   "cell_type": "code",
   "execution_count": 7,
   "id": "controversial-cardiff",
   "metadata": {},
   "outputs": [
    {
     "name": "stdout",
     "output_type": "stream",
     "text": [
      "500\n"
     ]
    }
   ],
   "source": [
    "print(len(google_data_with_proba))"
   ]
  },
  {
   "cell_type": "code",
   "execution_count": 8,
   "id": "killing-lindsay",
   "metadata": {},
   "outputs": [],
   "source": [
    "for bbcid in google_data_with_proba:\n",
    "    for system in google_data_with_proba[bbcid]:\n",
    "        for e in google_data_with_proba[bbcid][system]['ents']:\n",
    "            if 'cnndm_cmlm_cedar' in e and 'xsum_cmlm_bos' in e:\n",
    "                e['prior'] = e['bart.large']\n",
    "                e['posterior'] = e['xsum_cmlm_bos']\n",
    "            else:\n",
    "                e['prior'] = None\n",
    "                e['posterior'] = None"
   ]
  },
  {
   "cell_type": "code",
   "execution_count": 9,
   "id": "agreed-chess",
   "metadata": {},
   "outputs": [
    {
     "data": {
      "text/plain": [
       "{'summary': 'rory mcilroy moved to within a shot of joint leaders victor dubuisson and jaco van zyl after the third round of the turkish airlines open.',\n",
       " 'summary_upper': 'Rory McIlroy moved to within a shot of joint leaders Victor Dubuisson and Jaco van Zyl after the third round of the Turkish Airlines open .',\n",
       " 'ents': [{'start': 0,\n",
       "   'end': 4,\n",
       "   'label': -1,\n",
       "   'type': 'PERSON',\n",
       "   'ent': 'Rory',\n",
       "   'bart.large': 0.380859375,\n",
       "   'xsum_cmlm_bos': 0.93017578125,\n",
       "   'cnndm_cmlm_cedar': 0.180908203125,\n",
       "   'bart.large.xsum': 0.65087890625,\n",
       "   'prior': 0.380859375,\n",
       "   'posterior': 0.93017578125},\n",
       "  {'start': 5,\n",
       "   'end': 12,\n",
       "   'label': -1,\n",
       "   'type': 'PERSON',\n",
       "   'ent': 'McIlroy',\n",
       "   'bart.large': 0.9189453125,\n",
       "   'xsum_cmlm_bos': 0.78173828125,\n",
       "   'cnndm_cmlm_cedar': 0.81103515625,\n",
       "   'bart.large.xsum': 0.806640625,\n",
       "   'prior': 0.9189453125,\n",
       "   'posterior': 0.78173828125},\n",
       "  {'start': 53,\n",
       "   'end': 59,\n",
       "   'label': -1,\n",
       "   'type': 'PERSON',\n",
       "   'ent': 'Victor',\n",
       "   'bart.large': 0.0023136138916015625,\n",
       "   'xsum_cmlm_bos': 0.000522613525390625,\n",
       "   'cnndm_cmlm_cedar': 0.0006346702575683594,\n",
       "   'bart.large.xsum': 0.00011754035949707031,\n",
       "   'prior': 0.0023136138916015625,\n",
       "   'posterior': 0.000522613525390625},\n",
       "  {'start': 60,\n",
       "   'end': 69,\n",
       "   'label': -1,\n",
       "   'type': 'PERSON',\n",
       "   'ent': 'Dubuisson',\n",
       "   'bart.large': 0.97119140625,\n",
       "   'xsum_cmlm_bos': 0.82958984375,\n",
       "   'cnndm_cmlm_cedar': 0.73779296875,\n",
       "   'bart.large.xsum': 0.78466796875,\n",
       "   'prior': 0.97119140625,\n",
       "   'posterior': 0.82958984375},\n",
       "  {'start': 74,\n",
       "   'end': 78,\n",
       "   'label': -1,\n",
       "   'type': 'PERSON',\n",
       "   'ent': 'Jaco',\n",
       "   'bart.large': 0.048187255859375,\n",
       "   'xsum_cmlm_bos': 0.0057220458984375,\n",
       "   'cnndm_cmlm_cedar': 0.00045418739318847656,\n",
       "   'bart.large.xsum': 0.564453125,\n",
       "   'prior': 0.048187255859375,\n",
       "   'posterior': 0.0057220458984375},\n",
       "  {'start': 79,\n",
       "   'end': 82,\n",
       "   'label': -1,\n",
       "   'type': 'PERSON',\n",
       "   'ent': 'van',\n",
       "   'bart.large': 0.53369140625,\n",
       "   'xsum_cmlm_bos': 0.46484375,\n",
       "   'cnndm_cmlm_cedar': 0.0237579345703125,\n",
       "   'bart.large.xsum': 0.86083984375,\n",
       "   'prior': 0.53369140625,\n",
       "   'posterior': 0.46484375},\n",
       "  {'start': 83,\n",
       "   'end': 86,\n",
       "   'label': -1,\n",
       "   'type': 'PERSON',\n",
       "   'ent': 'Zyl',\n",
       "   'bart.large': 0.75,\n",
       "   'xsum_cmlm_bos': 0.90576171875,\n",
       "   'cnndm_cmlm_cedar': 0.763671875,\n",
       "   'bart.large.xsum': 0.89599609375,\n",
       "   'prior': 0.75,\n",
       "   'posterior': 0.90576171875},\n",
       "  {'start': 97,\n",
       "   'end': 102,\n",
       "   'label': -1,\n",
       "   'type': 'ORDINAL',\n",
       "   'ent': 'third',\n",
       "   'bart.large': 0.107666015625,\n",
       "   'xsum_cmlm_bos': 0.1309814453125,\n",
       "   'cnndm_cmlm_cedar': 0.12890625,\n",
       "   'bart.large.xsum': 0.257080078125,\n",
       "   'prior': 0.107666015625,\n",
       "   'posterior': 0.1309814453125},\n",
       "  {'start': 116,\n",
       "   'end': 132,\n",
       "   'label': -1,\n",
       "   'type': 'ORG',\n",
       "   'ent': 'Turkish Airlines',\n",
       "   'bart.large': 0.0064544677734375,\n",
       "   'xsum_cmlm_bos': 1.5437602996826172e-05,\n",
       "   'cnndm_cmlm_cedar': 1.0132789611816406e-06,\n",
       "   'bart.large.xsum': 0.0006804466247558594,\n",
       "   'prior': 0.0064544677734375,\n",
       "   'posterior': 1.5437602996826172e-05}]}"
      ]
     },
     "execution_count": 9,
     "metadata": {},
     "output_type": "execute_result"
    }
   ],
   "source": [
    "google_data_with_proba['34687720']['Gold']"
   ]
  },
  {
   "cell_type": "markdown",
   "id": "mounted-lemon",
   "metadata": {},
   "source": [
    "#### Claculate Factuality Correlation"
   ]
  },
  {
   "cell_type": "code",
   "execution_count": 10,
   "id": "talented-mitchell",
   "metadata": {},
   "outputs": [
    {
     "data": {
      "text/plain": [
       "{'bbcid': 29911712,\n",
       " 'system': 'BERTS2S',\n",
       " 'summary': 'more than 50 pupils at a bristol academy have been sent home from school because of a lack of uniform.',\n",
       " 'is_factual': 'no',\n",
       " 'worker_id': 'wid_1'}"
      ]
     },
     "execution_count": 10,
     "metadata": {},
     "output_type": "execute_result"
    }
   ],
   "source": [
    "factuality_data[1]"
   ]
  },
  {
   "cell_type": "code",
   "execution_count": 11,
   "id": "nearby-rendering",
   "metadata": {},
   "outputs": [],
   "source": [
    "factuality = {}\n",
    "for i, f in enumerate(factuality_data):\n",
    "    if f['bbcid'] not in factuality:\n",
    "        factuality[f['bbcid']] = {}\n",
    "    if f['system'] not in factuality[f['bbcid']]:\n",
    "        factuality[f['bbcid']][f['system']] = []\n",
    "        \n",
    "    if f['is_factual'] == 'yes':\n",
    "        factuality[f['bbcid']][f['system']].append(True)\n",
    "    elif f['is_factual'] == 'no':\n",
    "        factuality[f['bbcid']][f['system']].append(False)\n",
    "    elif f['is_factual'] is None:\n",
    "        factuality[f['bbcid']][f['system']].append(False)\n",
    "    else:\n",
    "        print(i)\n",
    "        raise Exception('Unkown Label: {}'.format(f['is_factual']))"
   ]
  },
  {
   "cell_type": "code",
   "execution_count": 12,
   "id": "monetary-relations",
   "metadata": {},
   "outputs": [],
   "source": [
    "hallucination = {}\n",
    "for h in hallucination_data:\n",
    "    if h['bbcid'] not in hallucination:\n",
    "        hallucination[h['bbcid']] = {}\n",
    "    if h['system'] not in hallucination[h['bbcid']]:\n",
    "        hallucination[h['bbcid']][h['system']] = []\n",
    "    \n",
    "    if h['hallucination_type'] == 'extrinsic' and len(h['hallucinated_span']) < len(h['summary']):\n",
    "        hallucination[h['bbcid']][h['system']].append(h['hallucinated_span'])"
   ]
  },
  {
   "cell_type": "code",
   "execution_count": 13,
   "id": "closing-lesson",
   "metadata": {},
   "outputs": [
    {
     "data": {
      "text/plain": [
       "['the final round of the wgc-hsbc champions']"
      ]
     },
     "execution_count": 13,
     "metadata": {},
     "output_type": "execute_result"
    }
   ],
   "source": [
    "hallucination[34687720]['BERTS2S']"
   ]
  },
  {
   "cell_type": "code",
   "execution_count": 14,
   "id": "durable-product",
   "metadata": {},
   "outputs": [],
   "source": [
    "# entity in hallucination span (extrinsic), and summary false: false-hallucination\n",
    "# entity in hallucination span (extrinsic), and summary true: true-hallucnination\n",
    "# entity not in hallucination span and summary true: non-hallucination"
   ]
  },
  {
   "cell_type": "markdown",
   "id": "previous-petite",
   "metadata": {},
   "source": [
    "#### Evaluating"
   ]
  },
  {
   "cell_type": "code",
   "execution_count": 15,
   "id": "random-printer",
   "metadata": {},
   "outputs": [],
   "source": [
    "from utils import read_document"
   ]
  },
  {
   "cell_type": "code",
   "execution_count": 16,
   "id": "increased-favorite",
   "metadata": {},
   "outputs": [],
   "source": [
    "def check_factual(scores):\n",
    "    if None in scores: return False\n",
    "#     if len(scores) == sum(scores):\n",
    "#         return True\n",
    "#     else:\n",
    "#         return False\n",
    "\n",
    "    if sum(scores) * 2 >= len(scores):\n",
    "        return True\n",
    "    else:\n",
    "        return False"
   ]
  },
  {
   "cell_type": "code",
   "execution_count": 17,
   "id": "sunrise-backup",
   "metadata": {},
   "outputs": [],
   "source": [
    "def check_hallucinated(entity, spans):\n",
    "    for s in spans:\n",
    "        if entity in s:\n",
    "            return True\n",
    "    return False"
   ]
  },
  {
   "cell_type": "code",
   "execution_count": 18,
   "id": "attached-interface",
   "metadata": {},
   "outputs": [],
   "source": [
    "factual_label, hallucination_label, posterior_label = [], [], []\n",
    "prior_probs, posterior_probs = [], []\n",
    "overlap_preds, threshold_preds = [], []\n",
    "\n",
    "for bbcid in google_data_with_proba:\n",
    "    for system in google_data_with_proba[bbcid]:\n",
    "        if int(bbcid) not in factuality or system not in factuality[int(bbcid)]: continue\n",
    "        if system not in ['BERTS2S']: continue\n",
    "    \n",
    "        for e in google_data_with_proba[bbcid][system]['ents']:\n",
    "            if 'posterior' not in e or e['posterior'] is None: continue\n",
    "            \n",
    "            is_factual = check_factual(factuality[int(bbcid)][system])\n",
    "            is_hallucinated = check_hallucinated(e['ent'], hallucination[int(bbcid)][system])\n",
    "            is_entity_in_document = e['ent'].lower() in read_document(int(bbcid), '/home/mcao610/scratch/summarization/XSum/xsum-preprocessed/document/').lower()\n",
    "\n",
    "            if is_factual and is_hallucinated:\n",
    "                factual_label.append(1)\n",
    "                hallucination_label.append(1)\n",
    "            elif is_factual and not is_hallucinated:\n",
    "                factual_label.append(1)\n",
    "                hallucination_label.append(0)\n",
    "            elif (not is_factual) and is_hallucinated:\n",
    "                factual_label.append(0)\n",
    "                hallucination_label.append(1)\n",
    "            elif (not is_factual) and (not is_hallucinated):\n",
    "                factual_label.append(1)\n",
    "                hallucination_label.append(0)\n",
    "            else:\n",
    "                continue\n",
    "            \n",
    "            prior_probs.append(e['prior'])\n",
    "            posterior_probs.append(e['posterior'])\n",
    "            \n",
    "            if e['posterior'] > e['prior']:\n",
    "                posterior_label.append(1)\n",
    "            else:\n",
    "                posterior_label.append(0)\n",
    "                \n",
    "            if is_entity_in_document:\n",
    "                overlap_preds.append(1)\n",
    "            else:\n",
    "                overlap_preds.append(0)\n",
    "                \n",
    "            if e['posterior'] > 0.4:\n",
    "                threshold_preds.append(1)\n",
    "            else:\n",
    "                threshold_preds.append(0)"
   ]
  },
  {
   "cell_type": "code",
   "execution_count": 19,
   "id": "dying-block",
   "metadata": {},
   "outputs": [
    {
     "name": "stdout",
     "output_type": "stream",
     "text": [
      "1309\n"
     ]
    }
   ],
   "source": [
    "print(len(factual_label))\n",
    "assert len(factual_label) == len(posterior_label)"
   ]
  },
  {
   "cell_type": "markdown",
   "id": "british-ethernet",
   "metadata": {},
   "source": [
    "#### Draw Diagram"
   ]
  },
  {
   "cell_type": "code",
   "execution_count": 20,
   "id": "nonprofit-ensemble",
   "metadata": {},
   "outputs": [],
   "source": [
    "%matplotlib inline\n",
    "\n",
    "from draw import plot_scatter"
   ]
  },
  {
   "cell_type": "code",
   "execution_count": 21,
   "id": "russian-footwear",
   "metadata": {},
   "outputs": [],
   "source": [
    "prior_posterior = []\n",
    "for pos, pri, f, h in zip(posterior_probs, prior_probs, factual_label, hallucination_label):\n",
    "    my_label = -1\n",
    "    if f == 1 and h == 1:\n",
    "        my_label = 1\n",
    "    elif f == 0 and h == 1:\n",
    "        my_label = 2\n",
    "    elif f == 1 and h == 0:\n",
    "        my_label = 0\n",
    "    assert my_label != -1\n",
    "    prior_posterior.append({'prior': pri, 'posterior': pos, 'label': my_label})"
   ]
  },
  {
   "cell_type": "code",
   "execution_count": 22,
   "id": "studied-indicator",
   "metadata": {},
   "outputs": [
    {
     "data": {
      "image/png": "[encoded data removed]",
      "text/plain": [
       "<Figure size 648x504 with 1 Axes>"
      ]
     },
     "metadata": {
      "needs_background": "light"
     },
     "output_type": "display_data"
    }
   ],
   "source": [
    "input_data = [\n",
    "    [(p['prior'], p['posterior']) for p in prior_posterior if p['label'] == 0],\n",
    "    [(p['prior'], p['posterior']) for p in prior_posterior if p['label'] == 1],\n",
    "    [(p['prior'], p['posterior']) for p in prior_posterior if p['label'] == 2]\n",
    "]\n",
    "labels = ['Non-hallucination', 'Hallucination True', 'Hallucination False']\n",
    "plot_scatter(input_data, labels)"
   ]
  },
  {
   "cell_type": "markdown",
   "id": "plastic-blade",
   "metadata": {},
   "source": [
    "#### Overlap Baseline"
   ]
  },
  {
   "cell_type": "code",
   "execution_count": 23,
   "id": "cosmetic-neighborhood",
   "metadata": {},
   "outputs": [],
   "source": [
    "from sklearn.metrics import classification_report"
   ]
  },
  {
   "cell_type": "code",
   "execution_count": 24,
   "id": "excited-arizona",
   "metadata": {},
   "outputs": [
    {
     "name": "stdout",
     "output_type": "stream",
     "text": [
      "              precision    recall  f1-score   support\n",
      "\n",
      " Non-factual     0.1490    0.7200    0.2469       125\n",
      "     Factual     0.9504    0.5659    0.7094      1184\n",
      "\n",
      "    accuracy                         0.5806      1309\n",
      "   macro avg     0.5497    0.6429    0.4781      1309\n",
      "weighted avg     0.8738    0.5806    0.6652      1309\n",
      "\n"
     ]
    }
   ],
   "source": [
    "print(classification_report(factual_label, threshold_preds, target_names=['Non-factual', 'Factual'], digits=4))"
   ]
  },
  {
   "cell_type": "code",
   "execution_count": 25,
   "id": "closed-underwear",
   "metadata": {},
   "outputs": [
    {
     "name": "stdout",
     "output_type": "stream",
     "text": [
      "              precision    recall  f1-score   support\n",
      "\n",
      " Non-factual     0.1324    0.5520    0.2136       125\n",
      "     Factual     0.9289    0.6182    0.7424      1184\n",
      "\n",
      "    accuracy                         0.6119      1309\n",
      "   macro avg     0.5307    0.5851    0.4780      1309\n",
      "weighted avg     0.8529    0.6119    0.6919      1309\n",
      "\n"
     ]
    }
   ],
   "source": [
    "print(classification_report(factual_label, overlap_preds, target_names=['Non-factual', 'Factual'], digits=4))"
   ]
  },
  {
   "cell_type": "code",
   "execution_count": 26,
   "id": "answering-lindsay",
   "metadata": {},
   "outputs": [
    {
     "name": "stdout",
     "output_type": "stream",
     "text": [
      "              precision    recall  f1-score   support\n",
      "\n",
      " Non-factual     0.1478    0.5704    0.2348       135\n",
      "     Factual     0.9264    0.6218    0.7441      1174\n",
      "\n",
      "    accuracy                         0.6165      1309\n",
      "   macro avg     0.5371    0.5961    0.4894      1309\n",
      "weighted avg     0.8461    0.6165    0.6916      1309\n",
      "\n"
     ]
    }
   ],
   "source": [
    "print(classification_report([1 if i == 0 else 0 for i in hallucination_label], overlap_preds, target_names=['Non-factual', 'Factual'], digits=4))"
   ]
  },
  {
   "cell_type": "markdown",
   "id": "aggressive-broadcasting",
   "metadata": {},
   "source": [
    "#### LM-based Baseline"
   ]
  },
  {
   "cell_type": "code",
   "execution_count": 27,
   "id": "liquid-bracelet",
   "metadata": {},
   "outputs": [
    {
     "name": "stdout",
     "output_type": "stream",
     "text": [
      "              precision    recall  f1-score   support\n",
      "\n",
      " Non-factual     0.1425    0.4240    0.2133       125\n",
      "     Factual     0.9232    0.7306    0.8157      1184\n",
      "\n",
      "    accuracy                         0.7013      1309\n",
      "   macro avg     0.5328    0.5773    0.5145      1309\n",
      "weighted avg     0.8486    0.7013    0.7581      1309\n",
      "\n"
     ]
    }
   ],
   "source": [
    "print(classification_report(factual_label, posterior_label, target_names=['Non-factual', 'Factual'], digits=4))"
   ]
  },
  {
   "cell_type": "code",
   "execution_count": 28,
   "id": "wrong-substance",
   "metadata": {},
   "outputs": [
    {
     "name": "stdout",
     "output_type": "stream",
     "text": [
      "              precision    recall  f1-score   support\n",
      "\n",
      " Non-factual     0.1505    0.4148    0.2209       135\n",
      "     Factual     0.9157    0.7308    0.8129      1174\n",
      "\n",
      "    accuracy                         0.6982      1309\n",
      "   macro avg     0.5331    0.5728    0.5169      1309\n",
      "weighted avg     0.8368    0.6982    0.7518      1309\n",
      "\n"
     ]
    }
   ],
   "source": [
    "print(classification_report([1 if i == 0 else 0 for i in hallucination_label], posterior_label, target_names=['Non-factual', 'Factual'], digits=4))"
   ]
  },
  {
   "cell_type": "markdown",
   "id": "returning-spell",
   "metadata": {},
   "source": [
    "#### Load KNN Model"
   ]
  },
  {
   "cell_type": "code",
   "execution_count": 29,
   "id": "changing-warehouse",
   "metadata": {},
   "outputs": [],
   "source": [
    "import numpy as np\n",
    "import pickle"
   ]
  },
  {
   "cell_type": "code",
   "execution_count": 30,
   "id": "level-inquiry",
   "metadata": {},
   "outputs": [],
   "source": [
    "def predict(knn_model, posteriors, priors):\n",
    "    posteriors = np.array(posteriors)\n",
    "    priors = np.array(priors)\n",
    "\n",
    "    x_mat = np.vstack([posteriors / np.std(posteriors), priors / np.std(priors)]).transpose()\n",
    "    # x_mat = np.vstack([posteriors, priors]).transpose()\n",
    "\n",
    "    return knn_model.predict(x_mat)"
   ]
  },
  {
   "cell_type": "code",
   "execution_count": 31,
   "id": "peaceful-jewel",
   "metadata": {},
   "outputs": [],
   "source": [
    "# load the model from disk\n",
    "knn_model = pickle.load(open('classifiers/knn_mlm_clm.pkl', 'rb'))"
   ]
  },
  {
   "cell_type": "code",
   "execution_count": 32,
   "id": "computational-source",
   "metadata": {},
   "outputs": [],
   "source": [
    "prediction = predict(knn_model, posterior_probs, prior_probs)"
   ]
  },
  {
   "cell_type": "code",
   "execution_count": 33,
   "id": "phantom-tokyo",
   "metadata": {},
   "outputs": [
    {
     "name": "stdout",
     "output_type": "stream",
     "text": [
      "                   precision    recall  f1-score   support\n",
      "\n",
      "Non-hallutionated     0.1520    0.2296    0.1829       135\n",
      "    Hallutionated     0.9059    0.8526    0.8785      1174\n",
      "\n",
      "         accuracy                         0.7884      1309\n",
      "        macro avg     0.5289    0.5411    0.5307      1309\n",
      "     weighted avg     0.8281    0.7884    0.8067      1309\n",
      "\n"
     ]
    }
   ],
   "source": [
    "print(classification_report([1 if i == 0 else 0 for i in hallucination_label], prediction, target_names=['Non-hallutionated', 'Hallutionated'], digits=4))"
   ]
  },
  {
   "cell_type": "code",
   "execution_count": 34,
   "id": "legislative-duncan",
   "metadata": {},
   "outputs": [],
   "source": [
    "# LM + KNN:\n",
    "#                    precision    recall  f1-score   support\n",
    "\n",
    "# Non-hallutionated     0.1417    0.3926    0.2083       135\n",
    "#     Hallutionated     0.9123    0.7266    0.8089      1174\n",
    "\n",
    "#          accuracy                         0.6921      1309\n",
    "#         macro avg     0.5270    0.5596    0.5086      1309\n",
    "#      weighted avg     0.8328    0.6921    0.7470      1309\n",
    "\n",
    "# Main model (n=5):\n",
    "#                    precision    recall  f1-score   support\n",
    "\n",
    "# Non-hallutionated     0.1545    0.3778    0.2194       135\n",
    "#     Hallutionated     0.9142    0.7624    0.8314      1174\n",
    "\n",
    "#          accuracy                         0.7227      1309\n",
    "#         macro avg     0.5344    0.5701    0.5254      1309\n",
    "#      weighted avg     0.8359    0.7227    0.7683      1309\n"
   ]
  },
  {
   "cell_type": "code",
   "execution_count": 35,
   "id": "sapphire-handle",
   "metadata": {},
   "outputs": [
    {
     "name": "stdout",
     "output_type": "stream",
     "text": [
      "              precision    recall  f1-score   support\n",
      "\n",
      " Non-factual     0.1373    0.2240    0.1702       125\n",
      "     Factual     0.9122    0.8514    0.8807      1184\n",
      "\n",
      "    accuracy                         0.7914      1309\n",
      "   macro avg     0.5247    0.5377    0.5255      1309\n",
      "weighted avg     0.8382    0.7914    0.8129      1309\n",
      "\n"
     ]
    }
   ],
   "source": [
    "print(classification_report(factual_label, prediction, target_names=['Non-factual', 'Factual'], digits=4))"
   ]
  },
  {
   "cell_type": "code",
   "execution_count": 36,
   "id": "nominated-revolution",
   "metadata": {},
   "outputs": [],
   "source": [
    "# LM + KNN (n=4)\n",
    "#               precision    recall  f1-score   support\n",
    "\n",
    "#  Non-factual     0.1389    0.3200    0.1937       125\n",
    "#      Factual     0.9167    0.7905    0.8490      1184\n",
    "\n",
    "#     accuracy                         0.7456      1309\n",
    "#    macro avg     0.5278    0.5553    0.5213      1309\n",
    "# weighted avg     0.8425    0.7456    0.7864      1309\n",
    "\n",
    "# Main Model (n=4)\n",
    "#               precision    recall  f1-score   support\n",
    "\n",
    "#  Non-factual     0.1373    0.2240    0.1702       125\n",
    "#      Factual     0.9122    0.8514    0.8807      1184\n",
    "\n",
    "#     accuracy                         0.7914      1309\n",
    "#    macro avg     0.5247    0.5377    0.5255      1309\n",
    "# weighted avg     0.8382    0.7914    0.8129      1309"
   ]
  }
 ],
 "metadata": {
  "kernelspec": {
   "display_name": "Python 3",
   "language": "python",
   "name": "python3"
  },
  "language_info": {
   "codemirror_mode": {
    "name": "ipython",
    "version": 3
   },
   "file_extension": ".py",
   "mimetype": "text/x-python",
   "name": "python",
   "nbconvert_exporter": "python",
   "pygments_lexer": "ipython3",
   "version": "3.7.4"
  }
 },
 "nbformat": 4,
 "nbformat_minor": 5
}
