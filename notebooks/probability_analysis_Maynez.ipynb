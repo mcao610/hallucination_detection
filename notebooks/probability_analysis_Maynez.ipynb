{
 "cells": [
  {
   "cell_type": "code",
   "execution_count": 127,
   "id": "laden-spray",
   "metadata": {},
   "outputs": [],
   "source": [
    "import json"
   ]
  },
  {
   "cell_type": "markdown",
   "id": "stuffed-termination",
   "metadata": {},
   "source": [
    "#### Read Original Google Dataset"
   ]
  },
  {
   "cell_type": "code",
   "execution_count": 128,
   "id": "balanced-array",
   "metadata": {},
   "outputs": [],
   "source": [
    "factuality_data = json.load(open('../data/xsum_hallucination_annotations/factuality_annotations_xsum_summaries.json'))\n",
    "hallucination_data = json.load(open('../data/xsum_hallucination_annotations/hallucination_annotations_xsum_summaries.json'))"
   ]
  },
  {
   "cell_type": "code",
   "execution_count": 129,
   "id": "instructional-sussex",
   "metadata": {},
   "outputs": [
    {
     "name": "stdout",
     "output_type": "stream",
     "text": [
      "5597\n",
      "11185\n"
     ]
    }
   ],
   "source": [
    "print(len(factuality_data))\n",
    "print(len(hallucination_data))"
   ]
  },
  {
   "cell_type": "code",
   "execution_count": 130,
   "id": "exempt-branch",
   "metadata": {},
   "outputs": [
    {
     "data": {
      "text/plain": [
       "{'BERTS2S', 'PtGen', 'TConvS2S', 'TranS2S'}"
      ]
     },
     "execution_count": 130,
     "metadata": {},
     "output_type": "execute_result"
    }
   ],
   "source": [
    "set([f['system'] for f in factuality_data])"
   ]
  },
  {
   "cell_type": "code",
   "execution_count": 131,
   "id": "built-memphis",
   "metadata": {},
   "outputs": [
    {
     "data": {
      "text/plain": [
       "{'bbcid': 34687720,\n",
       " 'system': 'BERTS2S',\n",
       " 'summary': 'rory mcilroy will take a one-shot lead into the final round of the wgc-hsbc champions after carding a three-under',\n",
       " 'hallucination_type': 'extrinsic',\n",
       " 'hallucinated_span': 'rory mcilroy will take a one-shot lead into the final round of the wgc-hsbc champions after carding a three-under',\n",
       " 'worker_id': 'wid_0'}"
      ]
     },
     "execution_count": 131,
     "metadata": {},
     "output_type": "execute_result"
    }
   ],
   "source": [
    "hallucination_data[0]"
   ]
  },
  {
   "cell_type": "markdown",
   "id": "frozen-incidence",
   "metadata": {},
   "source": [
    "#### Read Calculated Probability"
   ]
  },
  {
   "cell_type": "code",
   "execution_count": 132,
   "id": "driven-infrared",
   "metadata": {},
   "outputs": [],
   "source": [
    "google_data_with_proba = json.load(open('../data/Maynez_entity_data_with_prob.json', 'r'))"
   ]
  },
  {
   "cell_type": "code",
   "execution_count": 133,
   "id": "short-engine",
   "metadata": {},
   "outputs": [
    {
     "name": "stdout",
     "output_type": "stream",
     "text": [
      "500\n"
     ]
    }
   ],
   "source": [
    "print(len(google_data_with_proba))"
   ]
  },
  {
   "cell_type": "code",
   "execution_count": 134,
   "id": "acknowledged-netherlands",
   "metadata": {},
   "outputs": [],
   "source": [
    "for bbcid in google_data_with_proba:\n",
    "    for system in google_data_with_proba[bbcid]:\n",
    "        for e in google_data_with_proba[bbcid][system]['ents']:\n",
    "            if 'cnndm_cmlm_cedar' in e and 'xsum_cmlm_bos' in e:\n",
    "                e['prior'] = e['bart.large']\n",
    "                e['posterior'] = e['bart.large.xsum']\n",
    "            else:\n",
    "                e['prior'] = None\n",
    "                e['posterior'] = None"
   ]
  },
  {
   "cell_type": "code",
   "execution_count": 135,
   "id": "equipped-constraint",
   "metadata": {},
   "outputs": [
    {
     "data": {
      "text/plain": [
       "{'summary': 'rory mcilroy moved to within a shot of joint leaders victor dubuisson and jaco van zyl after the third round of the turkish airlines open.',\n",
       " 'summary_upper': 'Rory McIlroy moved to within a shot of joint leaders Victor Dubuisson and Jaco van Zyl after the third round of the Turkish Airlines open .',\n",
       " 'ents': [{'start': 0,\n",
       "   'end': 4,\n",
       "   'label': -1,\n",
       "   'type': 'PERSON',\n",
       "   'ent': 'Rory',\n",
       "   'bart.large': 0.380859375,\n",
       "   'xsum_cmlm_bos': 0.93017578125,\n",
       "   'cnndm_cmlm_cedar': 0.180908203125,\n",
       "   'bart.large.xsum': 0.65087890625,\n",
       "   'prior': 0.380859375,\n",
       "   'posterior': 0.65087890625},\n",
       "  {'start': 5,\n",
       "   'end': 12,\n",
       "   'label': -1,\n",
       "   'type': 'PERSON',\n",
       "   'ent': 'McIlroy',\n",
       "   'bart.large': 0.9189453125,\n",
       "   'xsum_cmlm_bos': 0.78173828125,\n",
       "   'cnndm_cmlm_cedar': 0.81103515625,\n",
       "   'bart.large.xsum': 0.806640625,\n",
       "   'prior': 0.9189453125,\n",
       "   'posterior': 0.806640625},\n",
       "  {'start': 53,\n",
       "   'end': 59,\n",
       "   'label': -1,\n",
       "   'type': 'PERSON',\n",
       "   'ent': 'Victor',\n",
       "   'bart.large': 0.0023136138916015625,\n",
       "   'xsum_cmlm_bos': 0.000522613525390625,\n",
       "   'cnndm_cmlm_cedar': 0.0006346702575683594,\n",
       "   'bart.large.xsum': 0.00011754035949707031,\n",
       "   'prior': 0.0023136138916015625,\n",
       "   'posterior': 0.00011754035949707031},\n",
       "  {'start': 60,\n",
       "   'end': 69,\n",
       "   'label': -1,\n",
       "   'type': 'PERSON',\n",
       "   'ent': 'Dubuisson',\n",
       "   'bart.large': 0.97119140625,\n",
       "   'xsum_cmlm_bos': 0.82958984375,\n",
       "   'cnndm_cmlm_cedar': 0.73779296875,\n",
       "   'bart.large.xsum': 0.78466796875,\n",
       "   'prior': 0.97119140625,\n",
       "   'posterior': 0.78466796875},\n",
       "  {'start': 74,\n",
       "   'end': 78,\n",
       "   'label': -1,\n",
       "   'type': 'PERSON',\n",
       "   'ent': 'Jaco',\n",
       "   'bart.large': 0.048187255859375,\n",
       "   'xsum_cmlm_bos': 0.0057220458984375,\n",
       "   'cnndm_cmlm_cedar': 0.00045418739318847656,\n",
       "   'bart.large.xsum': 0.564453125,\n",
       "   'prior': 0.048187255859375,\n",
       "   'posterior': 0.564453125},\n",
       "  {'start': 79,\n",
       "   'end': 82,\n",
       "   'label': -1,\n",
       "   'type': 'PERSON',\n",
       "   'ent': 'van',\n",
       "   'bart.large': 0.53369140625,\n",
       "   'xsum_cmlm_bos': 0.46484375,\n",
       "   'cnndm_cmlm_cedar': 0.0237579345703125,\n",
       "   'bart.large.xsum': 0.86083984375,\n",
       "   'prior': 0.53369140625,\n",
       "   'posterior': 0.86083984375},\n",
       "  {'start': 83,\n",
       "   'end': 86,\n",
       "   'label': -1,\n",
       "   'type': 'PERSON',\n",
       "   'ent': 'Zyl',\n",
       "   'bart.large': 0.75,\n",
       "   'xsum_cmlm_bos': 0.90576171875,\n",
       "   'cnndm_cmlm_cedar': 0.763671875,\n",
       "   'bart.large.xsum': 0.89599609375,\n",
       "   'prior': 0.75,\n",
       "   'posterior': 0.89599609375},\n",
       "  {'start': 97,\n",
       "   'end': 102,\n",
       "   'label': -1,\n",
       "   'type': 'ORDINAL',\n",
       "   'ent': 'third',\n",
       "   'bart.large': 0.107666015625,\n",
       "   'xsum_cmlm_bos': 0.1309814453125,\n",
       "   'cnndm_cmlm_cedar': 0.12890625,\n",
       "   'bart.large.xsum': 0.257080078125,\n",
       "   'prior': 0.107666015625,\n",
       "   'posterior': 0.257080078125},\n",
       "  {'start': 116,\n",
       "   'end': 132,\n",
       "   'label': -1,\n",
       "   'type': 'ORG',\n",
       "   'ent': 'Turkish Airlines',\n",
       "   'bart.large': 0.0064544677734375,\n",
       "   'xsum_cmlm_bos': 1.5437602996826172e-05,\n",
       "   'cnndm_cmlm_cedar': 1.0132789611816406e-06,\n",
       "   'bart.large.xsum': 0.0006804466247558594,\n",
       "   'prior': 0.0064544677734375,\n",
       "   'posterior': 0.0006804466247558594}]}"
      ]
     },
     "execution_count": 135,
     "metadata": {},
     "output_type": "execute_result"
    }
   ],
   "source": [
    "google_data_with_proba['34687720']['Gold']"
   ]
  },
  {
   "cell_type": "markdown",
   "id": "blank-sapphire",
   "metadata": {},
   "source": [
    "#### Claculate Factuality Correlation"
   ]
  },
  {
   "cell_type": "code",
   "execution_count": 136,
   "id": "passive-london",
   "metadata": {},
   "outputs": [
    {
     "data": {
      "text/plain": [
       "{'bbcid': 29911712,\n",
       " 'system': 'BERTS2S',\n",
       " 'summary': 'more than 50 pupils at a bristol academy have been sent home from school because of a lack of uniform.',\n",
       " 'is_factual': 'no',\n",
       " 'worker_id': 'wid_1'}"
      ]
     },
     "execution_count": 136,
     "metadata": {},
     "output_type": "execute_result"
    }
   ],
   "source": [
    "factuality_data[1]"
   ]
  },
  {
   "cell_type": "code",
   "execution_count": 137,
   "id": "exclusive-antigua",
   "metadata": {},
   "outputs": [],
   "source": [
    "factuality = {}\n",
    "for i, f in enumerate(factuality_data):\n",
    "    if f['bbcid'] not in factuality:\n",
    "        factuality[f['bbcid']] = {}\n",
    "    if f['system'] not in factuality[f['bbcid']]:\n",
    "        factuality[f['bbcid']][f['system']] = []\n",
    "        \n",
    "    if f['is_factual'] == 'yes':\n",
    "        factuality[f['bbcid']][f['system']].append(True)\n",
    "    elif f['is_factual'] == 'no':\n",
    "        factuality[f['bbcid']][f['system']].append(False)\n",
    "    elif f['is_factual'] is None:\n",
    "        factuality[f['bbcid']][f['system']].append(False)\n",
    "    else:\n",
    "        print(i)\n",
    "        raise Exception('Unkown Label: {}'.format(f['is_factual']))"
   ]
  },
  {
   "cell_type": "code",
   "execution_count": 138,
   "id": "ongoing-virus",
   "metadata": {},
   "outputs": [],
   "source": [
    "hallucination = {}\n",
    "for h in hallucination_data:\n",
    "    if h['bbcid'] not in hallucination:\n",
    "        hallucination[h['bbcid']] = {}\n",
    "    if h['system'] not in hallucination[h['bbcid']]:\n",
    "        hallucination[h['bbcid']][h['system']] = []\n",
    "    \n",
    "    if h['hallucination_type'] == 'extrinsic' and len(h['hallucinated_span']) < len(h['summary']):\n",
    "        hallucination[h['bbcid']][h['system']].append(h['hallucinated_span'])"
   ]
  },
  {
   "cell_type": "code",
   "execution_count": 139,
   "id": "romantic-frederick",
   "metadata": {},
   "outputs": [
    {
     "data": {
      "text/plain": [
       "['the final round of the wgc-hsbc champions']"
      ]
     },
     "execution_count": 139,
     "metadata": {},
     "output_type": "execute_result"
    }
   ],
   "source": [
    "hallucination[34687720]['BERTS2S']"
   ]
  },
  {
   "cell_type": "code",
   "execution_count": 140,
   "id": "transsexual-quebec",
   "metadata": {},
   "outputs": [],
   "source": [
    "# entity in hallucination span (extrinsic), and summary false: false-hallucination\n",
    "# entity in hallucination span (extrinsic), and summary true: true-hallucnination\n",
    "# entity not in hallucination span and summary true: non-hallucination"
   ]
  },
  {
   "cell_type": "markdown",
   "id": "laden-glory",
   "metadata": {},
   "source": [
    "#### Evaluating"
   ]
  },
  {
   "cell_type": "code",
   "execution_count": 141,
   "id": "light-sunrise",
   "metadata": {},
   "outputs": [],
   "source": [
    "from utils import read_document"
   ]
  },
  {
   "cell_type": "code",
   "execution_count": 142,
   "id": "noted-vatican",
   "metadata": {},
   "outputs": [],
   "source": [
    "def check_factual(scores):\n",
    "    if None in scores: return False\n",
    "#     if len(scores) == sum(scores):\n",
    "#         return True\n",
    "#     else:\n",
    "#         return False\n",
    "\n",
    "    if sum(scores) * 2 >= len(scores):\n",
    "        return True\n",
    "    else:\n",
    "        return False"
   ]
  },
  {
   "cell_type": "code",
   "execution_count": 143,
   "id": "practical-review",
   "metadata": {},
   "outputs": [],
   "source": [
    "def check_hallucinated(entity, spans):\n",
    "    for s in spans:\n",
    "        if entity in s:\n",
    "            return True\n",
    "    return False"
   ]
  },
  {
   "cell_type": "code",
   "execution_count": 144,
   "id": "split-ethernet",
   "metadata": {},
   "outputs": [],
   "source": [
    "factual_label, hallucination_label, posterior_label = [], [], []\n",
    "prior_probs, posterior_probs = [], []\n",
    "overlap_preds, threshold_preds = [], []\n",
    "true_label = []\n",
    "\n",
    "for bbcid in google_data_with_proba:\n",
    "    for system in google_data_with_proba[bbcid]:\n",
    "        if int(bbcid) not in factuality or system not in factuality[int(bbcid)]: continue\n",
    "        if system in ['PtGen', 'TConvS2S']: continue\n",
    "    \n",
    "        for e in google_data_with_proba[bbcid][system]['ents']:\n",
    "            if 'posterior' not in e or e['posterior'] is None: continue\n",
    "            \n",
    "            is_factual = check_factual(factuality[int(bbcid)][system])\n",
    "            is_hallucinated = check_hallucinated(e['ent'], hallucination[int(bbcid)][system])\n",
    "            \n",
    "            document = read_document(int(bbcid), '/home/mcao610/scratch/summarization/XSum/xsum-preprocessed/document/')\n",
    "            is_entity_in_document = e['ent'].lower() in document.lower()\n",
    "\n",
    "            if is_factual and is_hallucinated:\n",
    "                factual_label.append(1)\n",
    "                hallucination_label.append(1)\n",
    "                true_label.append(1)\n",
    "            elif is_factual and not is_hallucinated:\n",
    "                factual_label.append(1)\n",
    "                hallucination_label.append(0)\n",
    "                true_label.append(0)\n",
    "            elif (not is_factual) and is_hallucinated:\n",
    "                if is_entity_in_document:\n",
    "                    factual_label.append(1)\n",
    "                else:\n",
    "                    factual_label.append(0)\n",
    "                hallucination_label.append(1)\n",
    "                true_label.append(2)\n",
    "            elif (not is_factual) and (not is_hallucinated):\n",
    "                factual_label.append(1)\n",
    "                hallucination_label.append(0)\n",
    "                true_label.append(0)\n",
    "            else:\n",
    "                continue\n",
    "            \n",
    "            prior_probs.append(e['prior'])\n",
    "            posterior_probs.append(e['posterior'])\n",
    "            \n",
    "            if e['posterior'] > e['prior']:\n",
    "                posterior_label.append(1)\n",
    "            else:\n",
    "                posterior_label.append(0)\n",
    "                \n",
    "            if is_entity_in_document:\n",
    "                overlap_preds.append(1)\n",
    "            else:\n",
    "                overlap_preds.append(0)\n",
    "                \n",
    "            if e['posterior'] > 0.4:\n",
    "                threshold_preds.append(1)\n",
    "            else:\n",
    "                threshold_preds.append(0)"
   ]
  },
  {
   "cell_type": "code",
   "execution_count": 145,
   "id": "built-revelation",
   "metadata": {},
   "outputs": [
    {
     "name": "stdout",
     "output_type": "stream",
     "text": [
      "2700\n"
     ]
    }
   ],
   "source": [
    "print(len(factual_label))\n",
    "assert len(factual_label) == len(posterior_label)"
   ]
  },
  {
   "cell_type": "markdown",
   "id": "united-watts",
   "metadata": {},
   "source": [
    "#### Draw Diagram"
   ]
  },
  {
   "cell_type": "code",
   "execution_count": 146,
   "id": "engaged-arena",
   "metadata": {},
   "outputs": [],
   "source": [
    "%matplotlib inline\n",
    "\n",
    "from draw import plot_scatter"
   ]
  },
  {
   "cell_type": "code",
   "execution_count": 147,
   "id": "separated-chess",
   "metadata": {},
   "outputs": [],
   "source": [
    "prior_posterior = []\n",
    "for pos, pri, f, h in zip(posterior_probs, prior_probs, factual_label, hallucination_label):\n",
    "    my_label = -1\n",
    "    if f == 1 and h == 1:\n",
    "        my_label = 1\n",
    "    elif f == 0 and h == 1:\n",
    "        my_label = 2\n",
    "    elif f == 1 and h == 0:\n",
    "        my_label = 0\n",
    "    assert my_label != -1\n",
    "    prior_posterior.append({'prior': pri, 'posterior': pos, 'label': my_label})"
   ]
  },
  {
   "cell_type": "code",
   "execution_count": 167,
   "id": "whole-sewing",
   "metadata": {},
   "outputs": [
    {
     "data": {
      "image/png": "[encoded data removed]",
      "text/plain": [
       "<Figure size 648x504 with 1 Axes>"
      ]
     },
     "metadata": {
      "needs_background": "light"
     },
     "output_type": "display_data"
    }
   ],
   "source": [
    "input_data = [\n",
    "    [(p['prior'], p['posterior']) for p in prior_posterior if p['label'] == 0],\n",
    "    [(p['prior'], p['posterior']) for p in prior_posterior if p['label'] == 1],\n",
    "    [(p['prior'], p['posterior']) for p in prior_posterior if p['label'] == 2]\n",
    "]\n",
    "labels = ['Non-hallucination', 'Hallucination True', 'Hallucination False']\n",
    "plot_scatter(input_data, labels)"
   ]
  },
  {
   "cell_type": "markdown",
   "id": "neither-fraction",
   "metadata": {},
   "source": [
    "#### Overlap Baseline"
   ]
  },
  {
   "cell_type": "code",
   "execution_count": 149,
   "id": "honest-spider",
   "metadata": {},
   "outputs": [],
   "source": [
    "from sklearn.metrics import classification_report"
   ]
  },
  {
   "cell_type": "code",
   "execution_count": 150,
   "id": "tired-logic",
   "metadata": {},
   "outputs": [
    {
     "name": "stdout",
     "output_type": "stream",
     "text": [
      "              precision    recall  f1-score   support\n",
      "\n",
      " Non-factual     0.0912    0.9126    0.1658       183\n",
      "     Factual     0.9816    0.3389    0.5038      2517\n",
      "\n",
      "    accuracy                         0.3778      2700\n",
      "   macro avg     0.5364    0.6257    0.3348      2700\n",
      "weighted avg     0.9212    0.3778    0.4809      2700\n",
      "\n"
     ]
    }
   ],
   "source": [
    "print(classification_report(factual_label, threshold_preds, target_names=['Non-factual', 'Factual'], digits=4))"
   ]
  },
  {
   "cell_type": "code",
   "execution_count": 151,
   "id": "elder-static",
   "metadata": {},
   "outputs": [
    {
     "name": "stdout",
     "output_type": "stream",
     "text": [
      "              precision    recall  f1-score   support\n",
      "\n",
      " Non-factual     0.1758    1.0000    0.2990       183\n",
      "     Factual     1.0000    0.6591    0.7945      2517\n",
      "\n",
      "    accuracy                         0.6822      2700\n",
      "   macro avg     0.5879    0.8296    0.5468      2700\n",
      "weighted avg     0.9441    0.6822    0.7610      2700\n",
      "\n"
     ]
    }
   ],
   "source": [
    "print(classification_report(factual_label, overlap_preds, target_names=['Non-factual', 'Factual'], digits=4))"
   ]
  },
  {
   "cell_type": "code",
   "execution_count": 152,
   "id": "grave-musical",
   "metadata": {},
   "outputs": [
    {
     "name": "stdout",
     "output_type": "stream",
     "text": [
      "              precision    recall  f1-score   support\n",
      "\n",
      " Non-factual     0.1902    0.6326    0.2925       313\n",
      "     Factual     0.9307    0.6468    0.7632      2387\n",
      "\n",
      "    accuracy                         0.6452      2700\n",
      "   macro avg     0.5604    0.6397    0.5278      2700\n",
      "weighted avg     0.8448    0.6452    0.7087      2700\n",
      "\n"
     ]
    }
   ],
   "source": [
    "print(classification_report([1 if i == 0 else 0 for i in hallucination_label], overlap_preds, target_names=['Non-factual', 'Factual'], digits=4))"
   ]
  },
  {
   "cell_type": "markdown",
   "id": "right-hardware",
   "metadata": {},
   "source": [
    "#### LM-based Baseline"
   ]
  },
  {
   "cell_type": "code",
   "execution_count": 153,
   "id": "sustainable-wyoming",
   "metadata": {},
   "outputs": [
    {
     "name": "stdout",
     "output_type": "stream",
     "text": [
      "              precision    recall  f1-score   support\n",
      "\n",
      " Non-factual     0.1052    0.6503    0.1811       183\n",
      "     Factual     0.9592    0.5979    0.7367      2517\n",
      "\n",
      "    accuracy                         0.6015      2700\n",
      "   macro avg     0.5322    0.6241    0.4589      2700\n",
      "weighted avg     0.9013    0.6015    0.6990      2700\n",
      "\n"
     ]
    }
   ],
   "source": [
    "print(classification_report(factual_label, posterior_label, target_names=['Non-factual', 'Factual'], digits=4))"
   ]
  },
  {
   "cell_type": "code",
   "execution_count": 154,
   "id": "intimate-rochester",
   "metadata": {},
   "outputs": [
    {
     "name": "stdout",
     "output_type": "stream",
     "text": [
      "              precision    recall  f1-score   support\n",
      "\n",
      " Non-factual     0.1662    0.6006    0.2604       313\n",
      "     Factual     0.9203    0.6049    0.7300      2387\n",
      "\n",
      "    accuracy                         0.6044      2700\n",
      "   macro avg     0.5433    0.6028    0.4952      2700\n",
      "weighted avg     0.8329    0.6044    0.6756      2700\n",
      "\n"
     ]
    }
   ],
   "source": [
    "print(classification_report([1 if i == 0 else 0 for i in hallucination_label], posterior_label, target_names=['Non-factual', 'Factual'], digits=4))"
   ]
  },
  {
   "cell_type": "markdown",
   "id": "irish-decimal",
   "metadata": {},
   "source": [
    "#### Load KNN Model"
   ]
  },
  {
   "cell_type": "code",
   "execution_count": 155,
   "id": "gorgeous-lawrence",
   "metadata": {},
   "outputs": [],
   "source": [
    "import numpy as np\n",
    "import pickle"
   ]
  },
  {
   "cell_type": "code",
   "execution_count": 156,
   "id": "explicit-coalition",
   "metadata": {},
   "outputs": [],
   "source": [
    "def predict(knn_model, priors, posteriors, overlaps=None):\n",
    "    priors, posteriors = np.array(priors), np.array(posteriors)\n",
    "\n",
    "    if overlaps is not None:\n",
    "        overlaps = np.array(overlaps)\n",
    "        x_mat = np.vstack([priors, posteriors, overlaps]).transpose()\n",
    "\n",
    "        stds = [np.std(x_mat[:, 0]), np.std(x_mat[:, 1]), np.std(x_mat[:, 2])]\n",
    "        x_mat = np.vstack([x_mat[:, 0]/stds[0],  x_mat[:, 1]/stds[1], x_mat[:, 2]/stds[2]])\n",
    "    else:\n",
    "        x_mat = np.vstack([priors, posteriors]).transpose()\n",
    "\n",
    "        stds = [np.std(x_mat[:, 0]), np.std(x_mat[:, 1])]\n",
    "        x_mat = np.vstack([x_mat[:, 0]/stds[0],  x_mat[:, 1]/stds[1]]).transpose()\n",
    "    \n",
    "    return knn_model.predict(x_mat.transpose())"
   ]
  },
  {
   "cell_type": "code",
   "execution_count": 157,
   "id": "shared-liberia",
   "metadata": {},
   "outputs": [
    {
     "data": {
      "text/plain": [
       "2700"
      ]
     },
     "execution_count": 157,
     "metadata": {},
     "output_type": "execute_result"
    }
   ],
   "source": [
    "len(overlap_preds)"
   ]
  },
  {
   "cell_type": "code",
   "execution_count": 158,
   "id": "brave-fight",
   "metadata": {},
   "outputs": [],
   "source": [
    "# load the model from disk\n",
    "classifier = pickle.load(open('classifiers/knn_classifier_trained.pkl', 'rb'))"
   ]
  },
  {
   "cell_type": "code",
   "execution_count": 159,
   "id": "exclusive-stopping",
   "metadata": {},
   "outputs": [
    {
     "name": "stdout",
     "output_type": "stream",
     "text": [
      "(2700,)\n"
     ]
    }
   ],
   "source": [
    "prediction = predict(classifier, prior_probs, posterior_probs, overlaps=overlap_preds)\n",
    "print(prediction.shape)"
   ]
  },
  {
   "cell_type": "code",
   "execution_count": 160,
   "id": "experimental-importance",
   "metadata": {},
   "outputs": [
    {
     "name": "stdout",
     "output_type": "stream",
     "text": [
      "              precision    recall  f1-score   support\n",
      "\n",
      " Non-factual     0.2015    0.8634    0.3268       183\n",
      "     Factual     0.9870    0.7513    0.8531      2517\n",
      "\n",
      "    accuracy                         0.7589      2700\n",
      "   macro avg     0.5942    0.8073    0.5900      2700\n",
      "weighted avg     0.9337    0.7589    0.8175      2700\n",
      "\n"
     ]
    }
   ],
   "source": [
    "print(classification_report(factual_label, prediction, target_names=['Non-factual', 'Factual'], digits=4))"
   ]
  },
  {
   "cell_type": "code",
   "execution_count": 161,
   "id": "declared-bargain",
   "metadata": {},
   "outputs": [
    {
     "name": "stdout",
     "output_type": "stream",
     "text": [
      "                   precision    recall  f1-score   support\n",
      "\n",
      "Non-hallutionated     0.2156    0.5399    0.3081       313\n",
      "    Hallutionated     0.9248    0.7424    0.8236      2387\n",
      "\n",
      "         accuracy                         0.7189      2700\n",
      "        macro avg     0.5702    0.6411    0.5659      2700\n",
      "     weighted avg     0.8426    0.7189    0.7639      2700\n",
      "\n"
     ]
    }
   ],
   "source": [
    "print(classification_report([1 if i == 0 else 0 for i in hallucination_label], prediction, target_names=['Non-hallutionated', 'Hallutionated'], digits=4))"
   ]
  },
  {
   "cell_type": "code",
   "execution_count": 162,
   "id": "impaired-ranch",
   "metadata": {},
   "outputs": [],
   "source": [
    "# LM + KNN:\n",
    "#                    precision    recall  f1-score   support\n",
    "\n",
    "# Non-hallutionated     0.1417    0.3926    0.2083       135\n",
    "#     Hallutionated     0.9123    0.7266    0.8089      1174\n",
    "\n",
    "#          accuracy                         0.6921      1309\n",
    "#         macro avg     0.5270    0.5596    0.5086      1309\n",
    "#      weighted avg     0.8328    0.6921    0.7470      1309\n",
    "\n",
    "# Main model (n=5):\n",
    "#                    precision    recall  f1-score   support\n",
    "\n",
    "# Non-hallutionated     0.1545    0.3778    0.2194       135\n",
    "#     Hallutionated     0.9142    0.7624    0.8314      1174\n",
    "\n",
    "#          accuracy                         0.7227      1309\n",
    "#         macro avg     0.5344    0.5701    0.5254      1309\n",
    "#      weighted avg     0.8359    0.7227    0.7683      1309\n",
    "\n",
    "# Main Model three features:\n",
    "#                    precision    recall  f1-score   support\n",
    "\n",
    "# Non-hallutionated     0.1776    0.4000    0.2460       135\n",
    "#     Hallutionated     0.9194    0.7871    0.8481      1174\n",
    "\n",
    "#          accuracy                         0.7471      1309\n",
    "#         macro avg     0.5485    0.5935    0.5471      1309\n",
    "#      weighted avg     0.8429    0.7471    0.7860      1309"
   ]
  },
  {
   "cell_type": "code",
   "execution_count": 163,
   "id": "excellent-hello",
   "metadata": {},
   "outputs": [
    {
     "name": "stdout",
     "output_type": "stream",
     "text": [
      "              precision    recall  f1-score   support\n",
      "\n",
      " Non-factual     0.2015    0.8634    0.3268       183\n",
      "     Factual     0.9870    0.7513    0.8531      2517\n",
      "\n",
      "    accuracy                         0.7589      2700\n",
      "   macro avg     0.5942    0.8073    0.5900      2700\n",
      "weighted avg     0.9337    0.7589    0.8175      2700\n",
      "\n"
     ]
    }
   ],
   "source": [
    "print(classification_report(factual_label, prediction, target_names=['Non-factual', 'Factual'], digits=4))"
   ]
  },
  {
   "cell_type": "code",
   "execution_count": 164,
   "id": "coastal-agriculture",
   "metadata": {},
   "outputs": [],
   "source": [
    "# LM + KNN (n=4)\n",
    "#               precision    recall  f1-score   support\n",
    "\n",
    "#  Non-factual     0.1389    0.3200    0.1937       125\n",
    "#      Factual     0.9167    0.7905    0.8490      1184\n",
    "\n",
    "#     accuracy                         0.7456      1309\n",
    "#    macro avg     0.5278    0.5553    0.5213      1309\n",
    "# weighted avg     0.8425    0.7456    0.7864      1309\n",
    "\n",
    "# Main Model (n=4)\n",
    "#               precision    recall  f1-score   support\n",
    "\n",
    "#  Non-factual     0.1373    0.2240    0.1702       125\n",
    "#      Factual     0.9122    0.8514    0.8807      1184\n",
    "\n",
    "#     accuracy                         0.7914      1309\n",
    "#    macro avg     0.5247    0.5377    0.5255      1309\n",
    "# weighted avg     0.8382    0.7914    0.8129      1309\n",
    "\n",
    "# Main Model three features:\n",
    "#               precision    recall  f1-score   support\n",
    "\n",
    "#  Non-factual     0.1678    0.4080    0.2378       125\n",
    "#      Factual     0.9264    0.7863    0.8506      1184\n",
    "\n",
    "#     accuracy                         0.7502      1309\n",
    "#    macro avg     0.5471    0.5972    0.5442      1309\n",
    "# weighted avg     0.8539    0.7502    0.7921      1309"
   ]
  },
  {
   "cell_type": "code",
   "execution_count": null,
   "id": "roman-plaza",
   "metadata": {},
   "outputs": [],
   "source": []
  }
 ],
 "metadata": {
  "kernelspec": {
   "display_name": "Python 3",
   "language": "python",
   "name": "python3"
  },
  "language_info": {
   "codemirror_mode": {
    "name": "ipython",
    "version": 3
   },
   "file_extension": ".py",
   "mimetype": "text/x-python",
   "name": "python",
   "nbconvert_exporter": "python",
   "pygments_lexer": "ipython3",
   "version": "3.7.4"
  }
 },
 "nbformat": 4,
 "nbformat_minor": 5
}
