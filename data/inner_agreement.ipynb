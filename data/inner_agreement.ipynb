{
 "cells": [
  {
   "cell_type": "code",
   "execution_count": 26,
   "id": "willing-sword",
   "metadata": {},
   "outputs": [],
   "source": [
    "import numpy as np"
   ]
  },
  {
   "cell_type": "code",
   "execution_count": 27,
   "id": "animated-wesley",
   "metadata": {},
   "outputs": [],
   "source": [
    "my_label = [[0, 2, 1, 0], \n",
    "            [0, 2], \n",
    "            [1, 1, 0, 0, 0], \n",
    "            [0, 2, 2, 0], \n",
    "            [3], \n",
    "            [0, 0, 2], \n",
    "            [0, 0, 2, 0, 0], \n",
    "            [0, 0, 0, 0, 0, 1], \n",
    "            [0, 2], \n",
    "            [1, 1, 2, 0, 1, 0],\n",
    "            [0, 1, 0, 0, 2, 0],\n",
    "            [1, 0, 1, 0, 1, 0, 0, 2],\n",
    "            [0, 1],\n",
    "            [0, 2, 0, 2, 0],\n",
    "            [1, 0],\n",
    "            [0, 0, 0, 2, 0],\n",
    "            [0],\n",
    "            [0, 0, 0, 0, 0, 0, 0],\n",
    "            [0, 0],\n",
    "            [0, 0],\n",
    "            [0, 0, 0, 0]]"
   ]
  },
  {
   "cell_type": "code",
   "execution_count": 28,
   "id": "twenty-radar",
   "metadata": {},
   "outputs": [],
   "source": [
    "Yue_label = [[0, 2, 1, 0], \n",
    "            [0, 2], \n",
    "            [1, 1, 0, 2, 2], \n",
    "            [0, 2, 2, 0], \n",
    "            [3], \n",
    "            [0, 0, 2], \n",
    "            [0, 0, 2, 0, 0], \n",
    "            [0, 0, 0, 0, 0, 1], \n",
    "            [0, 2], \n",
    "            [1, 1, 2, 0, 1, 0],\n",
    "            [0, 1, 0, 0, 2, 0],\n",
    "            [1, 0, 1, 1, 1, 0, 0, 2],\n",
    "            [0, 1],\n",
    "            [0, 1, 0, 2, 0],\n",
    "            [1, 0],\n",
    "            [0, 0, 0, 2, 0],\n",
    "            [0],\n",
    "            [0, 0, 0, 0, 0, 0, 0],\n",
    "            [0, 0],\n",
    "            [0, 0],\n",
    "            [0, 0, 0, 0]]"
   ]
  },
  {
   "cell_type": "code",
   "execution_count": 29,
   "id": "green-fairy",
   "metadata": {},
   "outputs": [],
   "source": [
    "Paul_label = [[0, 2, 1, 0], \n",
    "             [0, 2], \n",
    "             [0, 1, 0, 2, 0], \n",
    "             [3, 2, 2, 3], \n",
    "             [3], \n",
    "             [0, 0, 2], \n",
    "             [0, 1, 2, 2, 0], \n",
    "             [0, 0, 0, 0, 0, 1], \n",
    "             [0, 2], \n",
    "             [1, 1, 2, 0, 2, 0],\n",
    "             [0, 1, 0, 0, 2, 0],\n",
    "             [0, 0, 1, 1, 1, 0, 0, 2],\n",
    "             [0, 1],\n",
    "             [0, 1, 0, 2, 0],\n",
    "             [1, 0],\n",
    "             [0, 0, 0, 2, 0],\n",
    "             [0],\n",
    "             [0, 0, 0, 0, 0, 0, 0],\n",
    "             [0, 0],\n",
    "             [1, 0],\n",
    "             [0, 0, 0, 0]]"
   ]
  },
  {
   "cell_type": "code",
   "execution_count": 30,
   "id": "selected-weather",
   "metadata": {},
   "outputs": [
    {
     "name": "stdout",
     "output_type": "stream",
     "text": [
      "21\n"
     ]
    }
   ],
   "source": [
    "print(len(Yue_label))"
   ]
  },
  {
   "cell_type": "code",
   "execution_count": 31,
   "id": "passing-former",
   "metadata": {},
   "outputs": [],
   "source": [
    "from sklearn.metrics import cohen_kappa_score"
   ]
  },
  {
   "cell_type": "code",
   "execution_count": 32,
   "id": "portable-substance",
   "metadata": {},
   "outputs": [
    {
     "data": {
      "text/plain": [
       "0.7490261547022816"
      ]
     },
     "execution_count": 32,
     "metadata": {},
     "output_type": "execute_result"
    }
   ],
   "source": [
    "my_label_flat = []\n",
    "yue_label_flat = []\n",
    "\n",
    "for l in my_label:\n",
    "    my_label_flat.extend(l)\n",
    "    \n",
    "for y in Paul_label:\n",
    "    yue_label_flat.extend(y)\n",
    "\n",
    "cohen_kappa_score(my_label_flat, yue_label_flat)"
   ]
  },
  {
   "cell_type": "code",
   "execution_count": 33,
   "id": "played-bosnia",
   "metadata": {},
   "outputs": [],
   "source": [
    "def fleiss_kappa(table, method='fleiss'):\n",
    "    \"\"\"Fleiss' and Randolph's kappa multi-rater agreement measure\n",
    "\n",
    "    Parameters\n",
    "    ----------\n",
    "    table : array_like, 2-D\n",
    "        assumes subjects in rows, and categories in columns\n",
    "    method : str\n",
    "        Method 'fleiss' returns Fleiss' kappa which uses the sample margin\n",
    "        to define the chance outcome.\n",
    "        Method 'randolph' or 'uniform' (only first 4 letters are needed)\n",
    "        returns Randolph's (2005) multirater kappa which assumes a uniform\n",
    "        distribution of the categories to define the chance outcome.\n",
    "\n",
    "    Returns\n",
    "    -------\n",
    "    kappa : float\n",
    "        Fleiss's or Randolph's kappa statistic for inter rater agreement\n",
    "    \"\"\"\n",
    "    table = 1.0 * np.asarray(table)   #avoid integer division\n",
    "    n_sub, n_cat =  table.shape\n",
    "    n_total = table.sum()\n",
    "    n_rater = table.sum(1)\n",
    "    n_rat = n_rater.max()\n",
    "    #assume fully ranked\n",
    "    assert n_total == n_sub * n_rat\n",
    "\n",
    "    #marginal frequency  of categories\n",
    "    p_cat = table.sum(0) / n_total\n",
    "\n",
    "    table2 = table * table\n",
    "    p_rat = (table2.sum(1) - n_rat) / (n_rat * (n_rat - 1.))\n",
    "    p_mean = p_rat.mean()\n",
    "\n",
    "    if method == 'fleiss':\n",
    "        p_mean_exp = (p_cat*p_cat).sum()\n",
    "    elif method.startswith('rand') or method.startswith('unif'):\n",
    "        p_mean_exp = 1 / n_cat\n",
    "\n",
    "    kappa = (p_mean - p_mean_exp) / (1- p_mean_exp)\n",
    "    return kappa"
   ]
  },
  {
   "cell_type": "code",
   "execution_count": 34,
   "id": "dried-camcorder",
   "metadata": {},
   "outputs": [],
   "source": [
    "table = []\n",
    "major_agreement = 0\n",
    "for m, y, p in zip(my_label, Yue_label, Paul_label):\n",
    "    assert len(m) == len(y) == len(p)\n",
    "    for x, y, z in zip(m, y, p):\n",
    "        set_length = len(set([x, y, z]))\n",
    "        if set_length == 3:\n",
    "            major_agreement += 0\n",
    "        elif set_length == 2:\n",
    "            major_agreement += 2\n",
    "        elif set_length == 1:\n",
    "            major_agreement += 3\n",
    "        \n",
    "        label = [0, 0, 0, 0]\n",
    "        label[x] += 1\n",
    "        label[y] += 1\n",
    "        label[z] += 1\n",
    "        table.append(label)"
   ]
  },
  {
   "cell_type": "code",
   "execution_count": 35,
   "id": "prostate-listing",
   "metadata": {},
   "outputs": [
    {
     "data": {
      "text/plain": [
       "0.8172928142600732"
      ]
     },
     "execution_count": 35,
     "metadata": {},
     "output_type": "execute_result"
    }
   ],
   "source": [
    "fleiss_kappa(table)"
   ]
  },
  {
   "cell_type": "code",
   "execution_count": 36,
   "id": "every-tunnel",
   "metadata": {},
   "outputs": [
    {
     "data": {
      "text/plain": [
       "0.9512195121951219"
      ]
     },
     "execution_count": 36,
     "metadata": {},
     "output_type": "execute_result"
    }
   ],
   "source": [
    "major_agreement / (len(table) * 3)"
   ]
  },
  {
   "cell_type": "code",
   "execution_count": 37,
   "id": "editorial-error",
   "metadata": {},
   "outputs": [
    {
     "data": {
      "text/plain": [
       "82"
      ]
     },
     "execution_count": 37,
     "metadata": {},
     "output_type": "execute_result"
    }
   ],
   "source": [
    "len(table)"
   ]
  }
 ],
 "metadata": {
  "kernelspec": {
   "display_name": "Python 3",
   "language": "python",
   "name": "python3"
  },
  "language_info": {
   "codemirror_mode": {
    "name": "ipython",
    "version": 3
   },
   "file_extension": ".py",
   "mimetype": "text/x-python",
   "name": "python",
   "nbconvert_exporter": "python",
   "pygments_lexer": "ipython3",
   "version": "3.7.4"
  }
 },
 "nbformat": 4,
 "nbformat_minor": 5
}
