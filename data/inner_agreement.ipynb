{
 "cells": [
  {
   "cell_type": "code",
   "execution_count": 1,
   "id": "informative-audience",
   "metadata": {},
   "outputs": [],
   "source": [
    "my_label = [[0, 2, 1, 0], \n",
    "            [0, 2], \n",
    "            [1, 1, 0, 0, 0], \n",
    "            [0, 2, 2, 0], \n",
    "            [3], \n",
    "            [0, 0, 2], \n",
    "            [0, 0, 2, 0, 0], \n",
    "            [0, 0, 0, 0, 0, 1], \n",
    "            [0, 2], \n",
    "            [1, 1, 2, 0, 1, 0],\n",
    "            [0, 1, 0, 0, 2, 0],\n",
    "            [1, 0, 1, 0, 1, 0, 0, 2],\n",
    "            [0, 1],\n",
    "            [0, 2, 0, 2, 0],\n",
    "            [1, 0],\n",
    "            [0, 0, 0, 2, 0],\n",
    "            [0],\n",
    "            [0, 0, 0, 0, 0, 0, 0],\n",
    "            [0, 0],\n",
    "            [0, 0],\n",
    "            [0, 0, 0, 0]]"
   ]
  },
  {
   "cell_type": "code",
   "execution_count": 2,
   "id": "fresh-bikini",
   "metadata": {},
   "outputs": [],
   "source": [
    "Yue_label = [[0, 2, 1, 0], \n",
    "            [0, 2], \n",
    "            [1, 1, 0, 2, 2], \n",
    "            [0, 2, 2, 0], \n",
    "            [3], \n",
    "            [0, 0, 2], \n",
    "            [0, 0, 2, 0, 0], \n",
    "            [0, 0, 0, 0, 0, 1], \n",
    "            [0, 2], \n",
    "            [1, 1, 2, 0, 1, 0],\n",
    "            [0, 1, 0, 0, 2, 0],\n",
    "            [1, 0, 1, 1, 1, 0, 0, 2],\n",
    "            [0, 1],\n",
    "            [0, 1, 0, 2, 0],\n",
    "            [1, 0],\n",
    "            [0, 0, 0, 2, 0],\n",
    "            [0],\n",
    "            [0, 0, 0, 0, 0, 0, 0],\n",
    "            [0, 0],\n",
    "            [0, 0],\n",
    "            [0, 0, 0, 0]]"
   ]
  },
  {
   "cell_type": "code",
   "execution_count": 3,
   "id": "chubby-brunswick",
   "metadata": {},
   "outputs": [
    {
     "name": "stdout",
     "output_type": "stream",
     "text": [
      "21\n"
     ]
    }
   ],
   "source": [
    "print(len(Yue_label))"
   ]
  },
  {
   "cell_type": "code",
   "execution_count": 4,
   "id": "serial-petersburg",
   "metadata": {},
   "outputs": [],
   "source": [
    "from sklearn.metrics import cohen_kappa_score"
   ]
  },
  {
   "cell_type": "code",
   "execution_count": 5,
   "id": "olympic-access",
   "metadata": {},
   "outputs": [
    {
     "data": {
      "text/plain": [
       "0.9059093516924842"
      ]
     },
     "execution_count": 5,
     "metadata": {},
     "output_type": "execute_result"
    }
   ],
   "source": [
    "my_label_flat = []\n",
    "yue_label_flat = []\n",
    "\n",
    "for l in my_label:\n",
    "    my_label_flat.extend(l)\n",
    "    \n",
    "for y in Yue_label:\n",
    "    yue_label_flat.extend(y)\n",
    "\n",
    "cohen_kappa_score(my_label_flat, yue_label_flat)"
   ]
  },
  {
   "cell_type": "code",
   "execution_count": null,
   "id": "considered-geneva",
   "metadata": {},
   "outputs": [],
   "source": []
  }
 ],
 "metadata": {
  "kernelspec": {
   "display_name": "Python 3",
   "language": "python",
   "name": "python3"
  },
  "language_info": {
   "codemirror_mode": {
    "name": "ipython",
    "version": 3
   },
   "file_extension": ".py",
   "mimetype": "text/x-python",
   "name": "python",
   "nbconvert_exporter": "python",
   "pygments_lexer": "ipython3",
   "version": "3.7.4"
  }
 },
 "nbformat": 4,
 "nbformat_minor": 5
}
